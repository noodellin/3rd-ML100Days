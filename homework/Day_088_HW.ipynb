{
 "cells": [
  {
   "cell_type": "markdown",
   "metadata": {},
   "source": [
    "## Work\n",
    "1. 請嘗試寫一個 callback 用來記錄各類別在訓練過程中，對驗證集的 True Positive 與 True Negative"
   ]
  },
  {
   "cell_type": "code",
   "execution_count": 1,
   "metadata": {},
   "outputs": [
    {
     "name": "stderr",
     "output_type": "stream",
     "text": [
      "Using TensorFlow backend.\n"
     ]
    }
   ],
   "source": [
    "import os\n",
    "import keras\n",
    "\n",
    "# Disable GPU\n",
    "os.environ[\"CUDA_VISIBLE_DEVICES\"] = \"\""
   ]
  },
  {
   "cell_type": "code",
   "execution_count": 2,
   "metadata": {},
   "outputs": [],
   "source": [
    "train, test = keras.datasets.cifar10.load_data()"
   ]
  },
  {
   "cell_type": "code",
   "execution_count": 3,
   "metadata": {},
   "outputs": [],
   "source": [
    "## 資料前處理\n",
    "def preproc_x(x, flatten=True):\n",
    "    x = x / 255.\n",
    "    if flatten:\n",
    "        x = x.reshape((len(x), -1))\n",
    "    return x\n",
    "\n",
    "def preproc_y(y, num_classes=10):\n",
    "    if y.shape[-1] == 1:\n",
    "        y = keras.utils.to_categorical(y, num_classes)\n",
    "    return y    "
   ]
  },
  {
   "cell_type": "code",
   "execution_count": 4,
   "metadata": {},
   "outputs": [
    {
     "name": "stdout",
     "output_type": "stream",
     "text": [
      "[[3]\n",
      " [8]\n",
      " [8]\n",
      " ...\n",
      " [5]\n",
      " [1]\n",
      " [7]]\n",
      "[[0. 0. 0. ... 0. 0. 0.]\n",
      " [0. 0. 0. ... 0. 1. 0.]\n",
      " [0. 0. 0. ... 0. 1. 0.]\n",
      " ...\n",
      " [0. 0. 0. ... 0. 0. 0.]\n",
      " [0. 1. 0. ... 0. 0. 0.]\n",
      " [0. 0. 0. ... 1. 0. 0.]]\n"
     ]
    }
   ],
   "source": [
    "x_train, y_train = train\n",
    "x_test, y_test = test\n",
    "print(y_test)\n",
    "# Preproc the inputs\n",
    "x_train = preproc_x(x_train)\n",
    "x_test = preproc_x(x_test)\n",
    "\n",
    "# Preprc the outputs\n",
    "y_train = preproc_y(y_train)\n",
    "y_test = preproc_y(y_test)\n",
    "print(y_test)"
   ]
  },
  {
   "cell_type": "code",
   "execution_count": 5,
   "metadata": {},
   "outputs": [],
   "source": [
    "from keras.layers import BatchNormalization\n",
    "def build_mlp(input_shape, output_units=10, num_neurons=[512, 256, 128]):\n",
    "    input_layer = keras.layers.Input(input_shape)\n",
    "    \n",
    "    for i, n_units in enumerate(num_neurons):\n",
    "        if i == 0:\n",
    "            x = keras.layers.Dense(units=n_units, \n",
    "                                   activation=\"relu\", \n",
    "                                   name=\"hidden_layer\"+str(i+1))(input_layer)\n",
    "            x = BatchNormalization()(x)\n",
    "        else:\n",
    "            x = keras.layers.Dense(units=n_units, \n",
    "                                   activation=\"relu\", \n",
    "                                   name=\"hidden_layer\"+str(i+1))(x)\n",
    "            x = BatchNormalization()(x)\n",
    "    \n",
    "    out = keras.layers.Dense(units=output_units, activation=\"softmax\", name=\"output\")(x)\n",
    "    \n",
    "    model = keras.models.Model(inputs=[input_layer], outputs=[out])\n",
    "    return model"
   ]
  },
  {
   "cell_type": "code",
   "execution_count": 22,
   "metadata": {},
   "outputs": [],
   "source": [
    "## 超參數設定\n",
    "LEARNING_RATE = 1e-3\n",
    "EPOCHS = 25\n",
    "BATCH_SIZE = 1024\n",
    "MOMENTUM = 0.95"
   ]
  },
  {
   "cell_type": "code",
   "execution_count": 23,
   "metadata": {},
   "outputs": [],
   "source": [
    "# 載入 Callbacks\n",
    "from keras.callbacks import Callback\n",
    "import numpy as np\n",
    "\n",
    "# Record_fp_tp\n",
    "class Record_tp_tn(Callback):\n",
    "    def on_train_begin(self, epoch, logs = {}):\n",
    "        logs = logs or {}\n",
    "        record_items = [\"val_tp\", \"val_tn\"]\n",
    "        for i in record_items:\n",
    "            if i not in self.params['metrics']:\n",
    "                self.params['metrics'].append(i)\n",
    "    \n",
    "    def on_epoch_end(self, epoch, logs = {}, thres=0.5):\n",
    "        logs = logs or {}\n",
    "        y_true = self.validation_data[1].argmax(axis = 1)\n",
    "        y_pred = self.model.predict(self.validation_data[0]).argmax(axis = 1)\n",
    "        #y_pred2 = (y_pred[:] >= thres) * 1\n",
    "        #y_pred3 = y_pred2.argmax(axis = 1)\n",
    "        print(\"y_true\",y_true)\n",
    "        print(\"y_pred\",y_pred)\n",
    "        #print(\"y_true shape\",y_true.shape)\n",
    "        #print(\"y_pred shape\",y_pred.shape)\n",
    "        #print(y_pred2)\n",
    "        #print(y_pred3)\n",
    "        logs[\"val_tp\"] = np.sum(np.logical_and(y_pred == 1, y_true == 1))\n",
    "        logs[\"val_tn\"] = np.sum(np.logical_and(y_pred == 0, y_true == 0))\n",
    "        #print(self.validation_data)\n",
    "        \n",
    "rec_tptn = Record_tp_tn()"
   ]
  },
  {
   "cell_type": "code",
   "execution_count": 24,
   "metadata": {
    "scrolled": true
   },
   "outputs": [
    {
     "name": "stdout",
     "output_type": "stream",
     "text": [
      "_________________________________________________________________\n",
      "Layer (type)                 Output Shape              Param #   \n",
      "=================================================================\n",
      "input_8 (InputLayer)         (None, 3072)              0         \n",
      "_________________________________________________________________\n",
      "hidden_layer1 (Dense)        (None, 512)               1573376   \n",
      "_________________________________________________________________\n",
      "batch_normalization_22 (Batc (None, 512)               2048      \n",
      "_________________________________________________________________\n",
      "hidden_layer2 (Dense)        (None, 256)               131328    \n",
      "_________________________________________________________________\n",
      "batch_normalization_23 (Batc (None, 256)               1024      \n",
      "_________________________________________________________________\n",
      "hidden_layer3 (Dense)        (None, 128)               32896     \n",
      "_________________________________________________________________\n",
      "batch_normalization_24 (Batc (None, 128)               512       \n",
      "_________________________________________________________________\n",
      "output (Dense)               (None, 10)                1290      \n",
      "=================================================================\n",
      "Total params: 1,742,474\n",
      "Trainable params: 1,740,682\n",
      "Non-trainable params: 1,792\n",
      "_________________________________________________________________\n",
      "Train on 50000 samples, validate on 10000 samples\n",
      "Epoch 1/25\n",
      "50000/50000 [==============================] - 3s 68us/step - loss: 2.2041 - acc: 0.2752 - val_loss: 2.1614 - val_acc: 0.3141\n",
      "y_true [3 8 8 ... 5 1 7]\n",
      "y_pred [3 8 0 ... 3 5 7]\n",
      "Epoch 2/25\n",
      "50000/50000 [==============================] - 2s 41us/step - loss: 1.7484 - acc: 0.3948 - val_loss: 1.7803 - val_acc: 0.3876\n",
      "y_true [3 8 8 ... 5 1 7]\n",
      "y_pred [3 9 0 ... 3 3 4]\n",
      "Epoch 3/25\n",
      "50000/50000 [==============================] - 2s 41us/step - loss: 1.6204 - acc: 0.4338 - val_loss: 1.6740 - val_acc: 0.4183\n",
      "y_true [3 8 8 ... 5 1 7]\n",
      "y_pred [3 9 0 ... 3 5 7]\n",
      "Epoch 4/25\n",
      "50000/50000 [==============================] - 2s 40us/step - loss: 1.5468 - acc: 0.4608 - val_loss: 1.6171 - val_acc: 0.4307\n",
      "y_true [3 8 8 ... 5 1 7]\n",
      "y_pred [3 9 0 ... 3 5 7]\n",
      "Epoch 5/25\n",
      "50000/50000 [==============================] - 2s 40us/step - loss: 1.4886 - acc: 0.4838 - val_loss: 1.5887 - val_acc: 0.4445\n",
      "y_true [3 8 8 ... 5 1 7]\n",
      "y_pred [3 9 8 ... 3 6 7]\n",
      "Epoch 6/25\n",
      "50000/50000 [==============================] - 2s 40us/step - loss: 1.4418 - acc: 0.4969 - val_loss: 1.5682 - val_acc: 0.4420\n",
      "y_true [3 8 8 ... 5 1 7]\n",
      "y_pred [3 9 0 ... 3 6 7]\n",
      "Epoch 7/25\n",
      "50000/50000 [==============================] - 2s 40us/step - loss: 1.4014 - acc: 0.5126 - val_loss: 1.5293 - val_acc: 0.4605\n",
      "y_true [3 8 8 ... 5 1 7]\n",
      "y_pred [3 9 0 ... 5 5 7]\n",
      "Epoch 8/25\n",
      "50000/50000 [==============================] - 2s 40us/step - loss: 1.3637 - acc: 0.5242 - val_loss: 1.5193 - val_acc: 0.4649\n",
      "y_true [3 8 8 ... 5 1 7]\n",
      "y_pred [3 9 0 ... 3 6 7]\n",
      "Epoch 9/25\n",
      "50000/50000 [==============================] - 2s 40us/step - loss: 1.3301 - acc: 0.5393 - val_loss: 1.5082 - val_acc: 0.4658\n",
      "y_true [3 8 8 ... 5 1 7]\n",
      "y_pred [3 9 0 ... 5 5 7]\n",
      "Epoch 10/25\n",
      "50000/50000 [==============================] - 2s 40us/step - loss: 1.2983 - acc: 0.5504 - val_loss: 1.4909 - val_acc: 0.4713\n",
      "y_true [3 8 8 ... 5 1 7]\n",
      "y_pred [3 9 0 ... 3 6 7]\n",
      "Epoch 11/25\n",
      "50000/50000 [==============================] - 2s 40us/step - loss: 1.2702 - acc: 0.5592 - val_loss: 1.4935 - val_acc: 0.4721\n",
      "y_true [3 8 8 ... 5 1 7]\n",
      "y_pred [3 8 0 ... 3 3 7]\n",
      "Epoch 12/25\n",
      "50000/50000 [==============================] - 2s 40us/step - loss: 1.2431 - acc: 0.5684 - val_loss: 1.4707 - val_acc: 0.4830\n",
      "y_true [3 8 8 ... 5 1 7]\n",
      "y_pred [3 9 0 ... 2 5 7]\n",
      "Epoch 13/25\n",
      "50000/50000 [==============================] - 2s 40us/step - loss: 1.2149 - acc: 0.5815 - val_loss: 1.4694 - val_acc: 0.4830\n",
      "y_true [3 8 8 ... 5 1 7]\n",
      "y_pred [3 9 0 ... 2 5 4]\n",
      "Epoch 14/25\n",
      "50000/50000 [==============================] - 2s 40us/step - loss: 1.1913 - acc: 0.5891 - val_loss: 1.4728 - val_acc: 0.4807\n",
      "y_true [3 8 8 ... 5 1 7]\n",
      "y_pred [3 8 0 ... 5 5 4]\n",
      "Epoch 15/25\n",
      "50000/50000 [==============================] - 2s 40us/step - loss: 1.1651 - acc: 0.5977 - val_loss: 1.4614 - val_acc: 0.4843\n",
      "y_true [3 8 8 ... 5 1 7]\n",
      "y_pred [3 8 0 ... 5 5 4]\n",
      "Epoch 16/25\n",
      "50000/50000 [==============================] - 2s 40us/step - loss: 1.1414 - acc: 0.6059 - val_loss: 1.4567 - val_acc: 0.4851\n",
      "y_true [3 8 8 ... 5 1 7]\n",
      "y_pred [3 9 0 ... 5 5 4]\n",
      "Epoch 17/25\n",
      "50000/50000 [==============================] - 2s 40us/step - loss: 1.1162 - acc: 0.6177 - val_loss: 1.4564 - val_acc: 0.4912: 0s - loss: 1.1149 - acc: \n",
      "y_true [3 8 8 ... 5 1 7]\n",
      "y_pred [3 9 0 ... 2 9 4]\n",
      "Epoch 18/25\n",
      "50000/50000 [==============================] - 2s 40us/step - loss: 1.0950 - acc: 0.6274 - val_loss: 1.4713 - val_acc: 0.4838\n",
      "y_true [3 8 8 ... 5 1 7]\n",
      "y_pred [3 9 0 ... 2 5 7]\n",
      "Epoch 19/25\n",
      "50000/50000 [==============================] - 2s 40us/step - loss: 1.0734 - acc: 0.6323 - val_loss: 1.4541 - val_acc: 0.4898\n",
      "y_true [3 8 8 ... 5 1 7]\n",
      "y_pred [3 9 0 ... 2 5 7]\n",
      "Epoch 20/25\n",
      "50000/50000 [==============================] - 2s 40us/step - loss: 1.0487 - acc: 0.6434 - val_loss: 1.4529 - val_acc: 0.4931\n",
      "y_true [3 8 8 ... 5 1 7]\n",
      "y_pred [3 8 0 ... 2 3 4]\n",
      "Epoch 21/25\n",
      "50000/50000 [==============================] - 2s 40us/step - loss: 1.0275 - acc: 0.6527 - val_loss: 1.4431 - val_acc: 0.4965\n",
      "y_true [3 8 8 ... 5 1 7]\n",
      "y_pred [3 8 0 ... 2 3 4]\n",
      "Epoch 22/25\n",
      "50000/50000 [==============================] - 2s 41us/step - loss: 1.0056 - acc: 0.6588 - val_loss: 1.4421 - val_acc: 0.4942\n",
      "y_true [3 8 8 ... 5 1 7]\n",
      "y_pred [3 8 0 ... 2 3 4]\n",
      "Epoch 23/25\n",
      "50000/50000 [==============================] - 2s 41us/step - loss: 0.9841 - acc: 0.6670 - val_loss: 1.4457 - val_acc: 0.4964\n",
      "y_true [3 8 8 ... 5 1 7]\n",
      "y_pred [3 8 0 ... 2 3 4]\n",
      "Epoch 24/25\n",
      "50000/50000 [==============================] - 2s 40us/step - loss: 0.9633 - acc: 0.6755 - val_loss: 1.4539 - val_acc: 0.4946\n",
      "y_true [3 8 8 ... 5 1 7]\n",
      "y_pred [5 8 0 ... 2 3 4]\n",
      "Epoch 25/25\n",
      "50000/50000 [==============================] - 2s 40us/step - loss: 0.9421 - acc: 0.6843 - val_loss: 1.4586 - val_acc: 0.4971\n",
      "y_true [3 8 8 ... 5 1 7]\n",
      "y_pred [3 8 0 ... 2 3 4]\n"
     ]
    }
   ],
   "source": [
    "model = build_mlp(input_shape=x_train.shape[1:])\n",
    "model.summary()\n",
    "optimizer = keras.optimizers.SGD(lr=LEARNING_RATE, nesterov=True, momentum=MOMENTUM)\n",
    "model.compile(loss=\"categorical_crossentropy\", metrics=[\"accuracy\"], optimizer=optimizer)\n",
    "\n",
    "model.fit(x_train, y_train, \n",
    "          epochs=EPOCHS, \n",
    "          batch_size=BATCH_SIZE, \n",
    "          validation_data=(x_test, y_test), \n",
    "          shuffle=True,\n",
    "          callbacks=[rec_tptn])\n",
    "\n",
    "# Collect results\n",
    "train_loss = model.history.history[\"loss\"]\n",
    "valid_loss = model.history.history[\"val_loss\"]\n",
    "train_acc = model.history.history[\"acc\"]\n",
    "valid_acc = model.history.history[\"val_acc\"]\n",
    "\n",
    "\"\"\"Code Here\n",
    "將 tp/tn 從訓練完的模型中取出\n",
    "\"\"\"\n",
    "valid_tp = model.history.history[\"val_tp\"]\n",
    "valid_tn = model.history.history[\"val_tn\"]"
   ]
  },
  {
   "cell_type": "code",
   "execution_count": 25,
   "metadata": {},
   "outputs": [
    {
     "data": {
      "image/png": "[encoded data removed]",
      "text/plain": [
       "<Figure size 432x288 with 1 Axes>"
      ]
     },
     "metadata": {
      "needs_background": "light"
     },
     "output_type": "display_data"
    },
    {
     "data": {
      "image/png": "[encoded data removed]",
      "text/plain": [
       "<Figure size 432x288 with 1 Axes>"
      ]
     },
     "metadata": {
      "needs_background": "light"
     },
     "output_type": "display_data"
    },
    {
     "data": {
      "image/png": "[encoded data removed]",
      "text/plain": [
       "<Figure size 432x288 with 1 Axes>"
      ]
     },
     "metadata": {
      "needs_background": "light"
     },
     "output_type": "display_data"
    }
   ],
   "source": [
    "import matplotlib.pyplot as plt\n",
    "%matplotlib inline\n",
    "\n",
    "plt.plot(range(len(train_loss)), train_loss, label=\"train loss\")\n",
    "plt.plot(range(len(valid_loss)), valid_loss, label=\"valid loss\")\n",
    "plt.legend()\n",
    "plt.title(\"Loss\")\n",
    "plt.show()\n",
    "\n",
    "plt.plot(range(len(train_acc)), train_acc, label=\"train accuracy\")\n",
    "plt.plot(range(len(valid_acc)), valid_acc, label=\"valid accuracy\")\n",
    "plt.legend()\n",
    "plt.title(\"Accuracy\")\n",
    "plt.show()\n",
    "\n",
    "plt.plot(range(len(valid_tp)), valid_tp, label=\"valid tp\", color=\"navy\")\n",
    "plt.plot(range(len(valid_tn)), valid_tn, label=\"valid tn\", color=\"red\")\n",
    "plt.legend()\n",
    "plt.title(\"True positives and True Negatives\")\n",
    "plt.show()\n"
   ]
  },
  {
   "cell_type": "code",
   "execution_count": null,
   "metadata": {},
   "outputs": [],
   "source": []
  }
 ],
 "metadata": {
  "kernelspec": {
   "display_name": "Python 3",
   "language": "python",
   "name": "python3"
  },
  "language_info": {
   "codemirror_mode": {
    "name": "ipython",
    "version": 3
   },
   "file_extension": ".py",
   "mimetype": "text/x-python",
   "name": "python",
   "nbconvert_exporter": "python",
   "pygments_lexer": "ipython3",
   "version": "3.7.3"
  }
 },
 "nbformat": 4,
 "nbformat_minor": 2
}
