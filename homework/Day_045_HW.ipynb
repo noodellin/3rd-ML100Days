{
 "cells": [
  {
   "cell_type": "markdown",
   "metadata": {},
   "source": [
    "## [作業重點]\n",
    "梯度提升機Gradient Boosting Machine"
   ]
  },
  {
   "cell_type": "code",
   "execution_count": null,
   "metadata": {},
   "outputs": [],
   "source": [
    "閱讀心得\n",
    "#\n",
    "GBDT︰梯度提升決策樹\n",
    "https://ifun01.com/84A3FW7.html\n",
    "    \n",
    "GBDT中的樹是回歸樹(不是分類樹)，GBDT用來做回歸預測，調整後也可以用于分類。\n",
    "\n",
    "梯度提升決策樹算法\n",
    "\n",
    "算法步驟解釋︰\n",
    "\n",
    "1、初始化，估計使損失函數極小化的常數值，它是只有一個根節點的樹，即ganma是一個常數值。\n",
    "\n",
    "2、\n",
    "\n",
    "(a)計算損失函數的負梯度在當前模型的值，將它作為殘差的估計\n",
    "\n",
    "(b)估計回歸樹葉節點區域，以擬合殘差的近似值\n",
    "\n",
    "(c)利用線性搜索估計葉節點區域的值，使損失函數極小化\n",
    "\n",
    "(d)更新回歸樹\n",
    "\n",
    "3、得到輸出的最終模型 f(x)\n",
    "\n",
    "隨機森林(random forest)和GBDT都是屬于集成學習(ensemble learning)的範疇。集成學習下有兩個重要的策略Bagging和Boosting。\n",
    "Bagging︰每個分類器都隨機從原樣本中做有放回的采樣，然後分別在這些采樣後的樣本上訓練分類器，\n",
    "然後再把這些分類器組合起來。簡單的多數投票一般就可以。其代表算法是隨機森林。\n",
    "Boosting:通過迭代地訓練一系列的分類器，每個分類器采用的樣本分布都和上一輪的學習結果有關。\n",
    "其代表算法是AdaBoost, GBDT。\n",
    "#\n",
    "A Kaggle Master Explains Gradient Boosting\n",
    "http://blog.kaggle.com/2017/01/23/a-kaggle-master-explains-gradient-boosting/\n",
    "#\n",
    "ML Lecture 22: Ensemble\n",
    "https://www.youtube.com/watch?v=tH9FH1DH5n0\n",
    "    \n",
    "#\n",
    "How to explain gradient boosting\n",
    "https://explained.ai/gradient-boosting/index.html\n",
    "#\n",
    "\n",
    "#\n",
    "Gradient Boosting 簡介 #這個最淺顯易懂\n",
    "https://medium.com/@cwchang/gradient-boosting-%E7%B0%A1%E4%BB%8B-f3a578ae7205\n",
    "having:\n",
    "    x feature\n",
    "    yT target\n",
    "    F(x) predict function\n",
    "    R(x) residual(yT-F(x))\n",
    "    h1(x) regression tree fit residual\n",
    "    ideal yT~F(x)+h1(x)\n",
    "gradient boosting:\n",
    "    train hn(x) for Rn(x)\n",
    "    ideal FM(x)=F(x)+sum_n(rn*hn(x))\n",
    "    rn :weight constant for hn(x)\n",
    "    \n",
    "#"
   ]
  }
 ],
 "metadata": {
  "kernelspec": {
   "display_name": "Python 3",
   "language": "python",
   "name": "python3"
  },
  "language_info": {
   "codemirror_mode": {
    "name": "ipython",
    "version": 3
   },
   "file_extension": ".py",
   "mimetype": "text/x-python",
   "name": "python",
   "nbconvert_exporter": "python",
   "pygments_lexer": "ipython3",
   "version": "3.7.3"
  }
 },
 "nbformat": 4,
 "nbformat_minor": 2
}
