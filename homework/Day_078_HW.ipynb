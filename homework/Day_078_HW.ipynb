{
 "cells": [
  {
   "cell_type": "markdown",
   "metadata": {},
   "source": [
    "## Work\n",
    "1. 請嘗試將 preproc_x 替換成以每筆資料的 min/max 進行標準化至 -1 ~ 1 間，再進行訓練\n",
    "2. 請嘗試將 mlp 疊更深 (e.g 5~10 層)，進行訓練後觀察 learning curve 的走勢\n",
    "3. (optional) 請改用 GPU 進行訓練 (如果你有 GPU 的話)，比較使用 CPU 與 GPU 的訓練速度"
   ]
  },
  {
   "cell_type": "code",
   "execution_count": 1,
   "metadata": {},
   "outputs": [],
   "source": [
    "## \n",
    "\"\"\"\n",
    "Your code here (optional)\n",
    "確認硬體資源\n",
    "\"\"\"\n"
   ]
  },
  {
   "cell_type": "code",
   "execution_count": 4,
   "metadata": {},
   "outputs": [],
   "source": [
    "import os\n",
    "import keras\n",
    "from sklearn import preprocessing\n",
    "\n",
    "# 請嘗試設定 GPU：os.environ\n"
   ]
  },
  {
   "cell_type": "code",
   "execution_count": 25,
   "metadata": {},
   "outputs": [],
   "source": [
    "train, test = keras.datasets.cifar10.load_data()"
   ]
  },
  {
   "cell_type": "code",
   "execution_count": 26,
   "metadata": {},
   "outputs": [],
   "source": [
    "## 資料前處理\n",
    "\"\"\"\n",
    "Your code here\n",
    "\"\"\"\n",
    "MMS = preprocessing.MinMaxScaler(feature_range=(-1,1))\n",
    "def preproc_x(x,flatten=True):\n",
    "    if flatten:\n",
    "        x = x.reshape((len(x),-1))\n",
    "    x = MMS.fit_transform(x)\n",
    "    return x\n",
    "\n",
    "def preproc_y(y, num_classes=10):\n",
    "    if y.shape[-1] == 1:\n",
    "        y = keras.utils.to_categorical(y,num_classes)\n",
    "    return y"
   ]
  },
  {
   "cell_type": "code",
   "execution_count": 27,
   "metadata": {},
   "outputs": [],
   "source": [
    "x_train, y_train = train\n",
    "x_test, y_test = test"
   ]
  },
  {
   "cell_type": "code",
   "execution_count": 28,
   "metadata": {},
   "outputs": [
    {
     "data": {
      "text/plain": [
       "array([[[ 59,  62,  63],\n",
       "        [ 43,  46,  45],\n",
       "        [ 50,  48,  43],\n",
       "        ...,\n",
       "        [158, 132, 108],\n",
       "        [152, 125, 102],\n",
       "        [148, 124, 103]],\n",
       "\n",
       "       [[ 16,  20,  20],\n",
       "        [  0,   0,   0],\n",
       "        [ 18,   8,   0],\n",
       "        ...,\n",
       "        [123,  88,  55],\n",
       "        [119,  83,  50],\n",
       "        [122,  87,  57]],\n",
       "\n",
       "       [[ 25,  24,  21],\n",
       "        [ 16,   7,   0],\n",
       "        [ 49,  27,   8],\n",
       "        ...,\n",
       "        [118,  84,  50],\n",
       "        [120,  84,  50],\n",
       "        [109,  73,  42]],\n",
       "\n",
       "       ...,\n",
       "\n",
       "       [[208, 170,  96],\n",
       "        [201, 153,  34],\n",
       "        [198, 161,  26],\n",
       "        ...,\n",
       "        [160, 133,  70],\n",
       "        [ 56,  31,   7],\n",
       "        [ 53,  34,  20]],\n",
       "\n",
       "       [[180, 139,  96],\n",
       "        [173, 123,  42],\n",
       "        [186, 144,  30],\n",
       "        ...,\n",
       "        [184, 148,  94],\n",
       "        [ 97,  62,  34],\n",
       "        [ 83,  53,  34]],\n",
       "\n",
       "       [[177, 144, 116],\n",
       "        [168, 129,  94],\n",
       "        [179, 142,  87],\n",
       "        ...,\n",
       "        [216, 184, 140],\n",
       "        [151, 118,  84],\n",
       "        [123,  92,  72]]], dtype=uint8)"
      ]
     },
     "execution_count": 28,
     "metadata": {},
     "output_type": "execute_result"
    }
   ],
   "source": [
    "x_train[0][:]"
   ]
  },
  {
   "cell_type": "code",
   "execution_count": 29,
   "metadata": {},
   "outputs": [],
   "source": [
    "# Preproc the inputs\n",
    "x_train = preproc_x(x_train)\n",
    "x_test = preproc_x(x_test)\n",
    "\n",
    "# Preprc the outputs\n",
    "y_train = preproc_y(y_train)\n",
    "y_test = preproc_y(y_test)"
   ]
  },
  {
   "cell_type": "code",
   "execution_count": 32,
   "metadata": {},
   "outputs": [
    {
     "name": "stdout",
     "output_type": "stream",
     "text": [
      "(50000, 3072)\n"
     ]
    },
    {
     "data": {
      "text/plain": [
       "array([[-0.5372549 , -0.51372549, -0.50588235, ..., -0.03529412,\n",
       "        -0.27843137, -0.43529412],\n",
       "       [ 0.20784314,  0.38823529,  0.46666667, ...,  0.12156863,\n",
       "         0.04313725,  0.12941176],\n",
       "       [ 1.        ,  1.        ,  1.        , ..., -0.37254902,\n",
       "        -0.3254902 , -0.34117647],\n",
       "       ...,\n",
       "       [-0.7254902 ,  0.39607843,  0.84313725, ..., -0.90588235,\n",
       "        -0.75686275, -0.60784314],\n",
       "       [ 0.48235294,  0.65490196,  0.88235294, ...,  0.52941176,\n",
       "         0.49019608,  0.34117647],\n",
       "       [ 0.79607843,  0.79607843,  0.8745098 , ...,  0.27843137,\n",
       "         0.27843137,  0.2627451 ]])"
      ]
     },
     "execution_count": 32,
     "metadata": {},
     "output_type": "execute_result"
    }
   ],
   "source": [
    "print(x_train.shape)\n",
    "x_train"
   ]
  },
  {
   "cell_type": "code",
   "execution_count": 33,
   "metadata": {},
   "outputs": [],
   "source": [
    "\"\"\"Code Here\n",
    "建立你的神經網路\n",
    "\"\"\"\n",
    "def build_mlp(input_shape, output_units=10, num_neurons=[3072,1024,512,256,128,64,32,16]):\n",
    "    input_layer = keras.layers.Input(input_shape)\n",
    "    \n",
    "    for i, n in enumerate(num_neurons):\n",
    "        if i == 0:\n",
    "            x = keras.layers.Dense(units=n, activation=\"relu\", name=\"H_layer\"+str(i+1))(input_layer)\n",
    "        else:\n",
    "            x = keras.layers.Dense(units=n, activation=\"relu\", name=\"H_layer\"+str(i+1))(x)\n",
    "    \n",
    "    out = keras.layers.Dense(units=output_units, activation=\"softmax\", name=\"output\")(x)\n",
    "    \n",
    "    model = keras.models.Model(inputs=[input_layer],outputs=[out])\n",
    "    return model"
   ]
  },
  {
   "cell_type": "code",
   "execution_count": 35,
   "metadata": {},
   "outputs": [
    {
     "name": "stdout",
     "output_type": "stream",
     "text": [
      "_________________________________________________________________\n",
      "Layer (type)                 Output Shape              Param #   \n",
      "=================================================================\n",
      "input_2 (InputLayer)         (None, 3072)              0         \n",
      "_________________________________________________________________\n",
      "H_layer1 (Dense)             (None, 3072)              9440256   \n",
      "_________________________________________________________________\n",
      "H_layer2 (Dense)             (None, 1024)              3146752   \n",
      "_________________________________________________________________\n",
      "H_layer3 (Dense)             (None, 512)               524800    \n",
      "_________________________________________________________________\n",
      "H_layer4 (Dense)             (None, 256)               131328    \n",
      "_________________________________________________________________\n",
      "H_layer5 (Dense)             (None, 128)               32896     \n",
      "_________________________________________________________________\n",
      "H_layer6 (Dense)             (None, 64)                8256      \n",
      "_________________________________________________________________\n",
      "H_layer7 (Dense)             (None, 32)                2080      \n",
      "_________________________________________________________________\n",
      "H_layer8 (Dense)             (None, 16)                528       \n",
      "_________________________________________________________________\n",
      "output (Dense)               (None, 10)                170       \n",
      "=================================================================\n",
      "Total params: 13,287,066\n",
      "Trainable params: 13,287,066\n",
      "Non-trainable params: 0\n",
      "_________________________________________________________________\n"
     ]
    }
   ],
   "source": [
    "model = build_mlp(input_shape=x_train.shape[1:])\n",
    "model.summary()"
   ]
  },
  {
   "cell_type": "code",
   "execution_count": 36,
   "metadata": {},
   "outputs": [],
   "source": [
    "## 超參數設定\n",
    "LEARNING_RATE = 0.001\n",
    "EPOCHS = 100\n",
    "BATCH_SIZE = 256"
   ]
  },
  {
   "cell_type": "code",
   "execution_count": 37,
   "metadata": {},
   "outputs": [
    {
     "name": "stdout",
     "output_type": "stream",
     "text": [
      "WARNING:tensorflow:From C:\\ProgramData\\Anaconda3\\lib\\site-packages\\keras\\optimizers.py:790: The name tf.train.Optimizer is deprecated. Please use tf.compat.v1.train.Optimizer instead.\n",
      "\n",
      "WARNING:tensorflow:From C:\\ProgramData\\Anaconda3\\lib\\site-packages\\keras\\backend\\tensorflow_backend.py:3295: The name tf.log is deprecated. Please use tf.math.log instead.\n",
      "\n"
     ]
    }
   ],
   "source": [
    "optimizer = keras.optimizers.Adam(lr=LEARNING_RATE)\n",
    "model.compile(loss=\"categorical_crossentropy\", metrics=[\"accuracy\"], optimizer=optimizer)"
   ]
  },
  {
   "cell_type": "code",
   "execution_count": 38,
   "metadata": {},
   "outputs": [
    {
     "name": "stdout",
     "output_type": "stream",
     "text": [
      "WARNING:tensorflow:From C:\\ProgramData\\Anaconda3\\lib\\site-packages\\tensorflow\\python\\ops\\math_grad.py:1250: add_dispatch_support.<locals>.wrapper (from tensorflow.python.ops.array_ops) is deprecated and will be removed in a future version.\n",
      "Instructions for updating:\n",
      "Use tf.where in 2.0, which has the same broadcast rule as np.where\n",
      "WARNING:tensorflow:From C:\\ProgramData\\Anaconda3\\lib\\site-packages\\keras\\backend\\tensorflow_backend.py:986: The name tf.assign_add is deprecated. Please use tf.compat.v1.assign_add instead.\n",
      "\n",
      "Train on 50000 samples, validate on 10000 samples\n",
      "Epoch 1/100\n",
      "50000/50000 [==============================] - 10s 194us/step - loss: 2.0459 - acc: 0.2632 - val_loss: 1.8255 - val_acc: 0.3675\n",
      "Epoch 2/100\n",
      "50000/50000 [==============================] - 8s 159us/step - loss: 1.6868 - acc: 0.4116 - val_loss: 1.5807 - val_acc: 0.4432\n",
      "Epoch 3/100\n",
      "50000/50000 [==============================] - 8s 157us/step - loss: 1.4968 - acc: 0.4774 - val_loss: 1.5029 - val_acc: 0.4759\n",
      "Epoch 4/100\n",
      "50000/50000 [==============================] - 8s 158us/step - loss: 1.3818 - acc: 0.5175 - val_loss: 1.4342 - val_acc: 0.5034\n",
      "Epoch 5/100\n",
      "50000/50000 [==============================] - 8s 158us/step - loss: 1.2846 - acc: 0.5511 - val_loss: 1.3966 - val_acc: 0.5222\n",
      "Epoch 6/100\n",
      "50000/50000 [==============================] - 8s 158us/step - loss: 1.1905 - acc: 0.5835 - val_loss: 1.3844 - val_acc: 0.5285\n",
      "Epoch 7/100\n",
      "50000/50000 [==============================] - 8s 158us/step - loss: 1.1078 - acc: 0.6151 - val_loss: 1.3911 - val_acc: 0.5202\n",
      "Epoch 8/100\n",
      "50000/50000 [==============================] - 8s 159us/step - loss: 1.0091 - acc: 0.6477 - val_loss: 1.3946 - val_acc: 0.5416\n",
      "Epoch 9/100\n",
      "50000/50000 [==============================] - 8s 157us/step - loss: 0.9228 - acc: 0.6722 - val_loss: 1.4345 - val_acc: 0.5356\n",
      "Epoch 10/100\n",
      "50000/50000 [==============================] - 8s 157us/step - loss: 0.8415 - acc: 0.7036 - val_loss: 1.5222 - val_acc: 0.5331\n",
      "Epoch 11/100\n",
      "50000/50000 [==============================] - 8s 158us/step - loss: 0.7612 - acc: 0.7325 - val_loss: 1.5310 - val_acc: 0.5403\n",
      "Epoch 12/100\n",
      "50000/50000 [==============================] - 8s 158us/step - loss: 0.6791 - acc: 0.7616 - val_loss: 1.6085 - val_acc: 0.5456\n",
      "Epoch 13/100\n",
      "50000/50000 [==============================] - 8s 159us/step - loss: 0.6056 - acc: 0.7868 - val_loss: 1.7432 - val_acc: 0.5454\n",
      "Epoch 14/100\n",
      "50000/50000 [==============================] - 8s 158us/step - loss: 0.5488 - acc: 0.8066 - val_loss: 1.8442 - val_acc: 0.5457\n",
      "Epoch 15/100\n",
      "50000/50000 [==============================] - 8s 160us/step - loss: 0.4938 - acc: 0.8289 - val_loss: 1.8285 - val_acc: 0.5463\n",
      "Epoch 16/100\n",
      "50000/50000 [==============================] - 8s 161us/step - loss: 0.4326 - acc: 0.8486 - val_loss: 2.0012 - val_acc: 0.5472\n",
      "Epoch 17/100\n",
      "50000/50000 [==============================] - 8s 159us/step - loss: 0.3963 - acc: 0.8638 - val_loss: 2.0936 - val_acc: 0.5487\n",
      "Epoch 18/100\n",
      "50000/50000 [==============================] - 8s 158us/step - loss: 0.3622 - acc: 0.8764 - val_loss: 2.1808 - val_acc: 0.5357\n",
      "Epoch 19/100\n",
      "50000/50000 [==============================] - 8s 158us/step - loss: 0.3166 - acc: 0.8916 - val_loss: 2.4018 - val_acc: 0.5435\n",
      "Epoch 20/100\n",
      "50000/50000 [==============================] - 8s 158us/step - loss: 0.2817 - acc: 0.9035 - val_loss: 2.4528 - val_acc: 0.5494\n",
      "Epoch 21/100\n",
      "50000/50000 [==============================] - 8s 158us/step - loss: 0.2781 - acc: 0.9063 - val_loss: 2.5331 - val_acc: 0.5443\n",
      "Epoch 22/100\n",
      "50000/50000 [==============================] - 8s 158us/step - loss: 0.2536 - acc: 0.9145 - val_loss: 2.5685 - val_acc: 0.5453\n",
      "Epoch 23/100\n",
      "50000/50000 [==============================] - 8s 160us/step - loss: 0.2338 - acc: 0.9212 - val_loss: 2.5169 - val_acc: 0.5419\n",
      "Epoch 24/100\n",
      "50000/50000 [==============================] - 8s 159us/step - loss: 0.2161 - acc: 0.9294 - val_loss: 2.5682 - val_acc: 0.5441\n",
      "Epoch 25/100\n",
      "50000/50000 [==============================] - 8s 162us/step - loss: 0.1945 - acc: 0.9343 - val_loss: 2.7621 - val_acc: 0.5368\n",
      "Epoch 26/100\n",
      "50000/50000 [==============================] - 8s 167us/step - loss: 0.1936 - acc: 0.9358 - val_loss: 2.8444 - val_acc: 0.5452\n",
      "Epoch 27/100\n",
      "50000/50000 [==============================] - 8s 162us/step - loss: 0.1813 - acc: 0.9402 - val_loss: 2.7200 - val_acc: 0.5456\n",
      "Epoch 28/100\n",
      "50000/50000 [==============================] - 8s 162us/step - loss: 0.1580 - acc: 0.9484 - val_loss: 2.8441 - val_acc: 0.5475\n",
      "Epoch 29/100\n",
      "50000/50000 [==============================] - 8s 160us/step - loss: 0.1647 - acc: 0.9458 - val_loss: 2.8450 - val_acc: 0.5423\n",
      "Epoch 30/100\n",
      "50000/50000 [==============================] - 8s 160us/step - loss: 0.1564 - acc: 0.9480 - val_loss: 2.7653 - val_acc: 0.5455\n",
      "Epoch 31/100\n",
      "50000/50000 [==============================] - 8s 161us/step - loss: 0.1414 - acc: 0.9540 - val_loss: 2.9868 - val_acc: 0.5432\n",
      "Epoch 32/100\n",
      "50000/50000 [==============================] - 8s 162us/step - loss: 0.1319 - acc: 0.9568 - val_loss: 3.0126 - val_acc: 0.5447\n",
      "Epoch 33/100\n",
      "50000/50000 [==============================] - 8s 157us/step - loss: 0.1351 - acc: 0.9565 - val_loss: 2.8437 - val_acc: 0.5440\n",
      "Epoch 34/100\n",
      "50000/50000 [==============================] - 8s 158us/step - loss: 0.1301 - acc: 0.9574 - val_loss: 2.8740 - val_acc: 0.5384\n",
      "Epoch 35/100\n",
      "50000/50000 [==============================] - 8s 157us/step - loss: 0.1164 - acc: 0.9628 - val_loss: 3.0196 - val_acc: 0.5411\n",
      "Epoch 36/100\n",
      "50000/50000 [==============================] - 8s 158us/step - loss: 0.1171 - acc: 0.9626 - val_loss: 3.0801 - val_acc: 0.5416\n",
      "Epoch 37/100\n",
      "50000/50000 [==============================] - 8s 160us/step - loss: 0.1183 - acc: 0.9625 - val_loss: 2.9232 - val_acc: 0.5421\n",
      "Epoch 38/100\n",
      "50000/50000 [==============================] - 8s 160us/step - loss: 0.1066 - acc: 0.9665 - val_loss: 3.1132 - val_acc: 0.5376\n",
      "Epoch 39/100\n",
      "50000/50000 [==============================] - 8s 161us/step - loss: 0.1193 - acc: 0.9622 - val_loss: 3.1333 - val_acc: 0.5487\n",
      "Epoch 40/100\n",
      "50000/50000 [==============================] - 9s 181us/step - loss: 0.1062 - acc: 0.9668 - val_loss: 2.9410 - val_acc: 0.5403\n",
      "Epoch 41/100\n",
      "50000/50000 [==============================] - 9s 171us/step - loss: 0.0970 - acc: 0.9694 - val_loss: 2.9540 - val_acc: 0.5509\n",
      "Epoch 42/100\n",
      "50000/50000 [==============================] - 8s 167us/step - loss: 0.0948 - acc: 0.9706 - val_loss: 3.0397 - val_acc: 0.5393\n",
      "Epoch 43/100\n",
      "50000/50000 [==============================] - 8s 168us/step - loss: 0.1036 - acc: 0.9685 - val_loss: 3.0123 - val_acc: 0.5465\n",
      "Epoch 44/100\n",
      "50000/50000 [==============================] - 8s 162us/step - loss: 0.0846 - acc: 0.9740 - val_loss: 3.0991 - val_acc: 0.5517\n",
      "Epoch 45/100\n",
      "50000/50000 [==============================] - 8s 161us/step - loss: 0.0840 - acc: 0.9738 - val_loss: 2.9030 - val_acc: 0.5418\n",
      "Epoch 46/100\n",
      "50000/50000 [==============================] - 8s 163us/step - loss: 0.0857 - acc: 0.9727 - val_loss: 3.1035 - val_acc: 0.5416\n",
      "Epoch 47/100\n",
      "50000/50000 [==============================] - 8s 165us/step - loss: 0.0942 - acc: 0.9712 - val_loss: 3.0059 - val_acc: 0.5399\n",
      "Epoch 48/100\n",
      "50000/50000 [==============================] - 8s 162us/step - loss: 0.0903 - acc: 0.9711 - val_loss: 3.1479 - val_acc: 0.5421\n",
      "Epoch 49/100\n",
      "50000/50000 [==============================] - 8s 163us/step - loss: 0.0762 - acc: 0.9759 - val_loss: 3.1173 - val_acc: 0.5403\n",
      "Epoch 50/100\n",
      "50000/50000 [==============================] - 8s 164us/step - loss: 0.0860 - acc: 0.9737 - val_loss: 3.2006 - val_acc: 0.5532\n",
      "Epoch 51/100\n",
      "50000/50000 [==============================] - 8s 161us/step - loss: 0.0857 - acc: 0.9744 - val_loss: 3.1386 - val_acc: 0.5434\n",
      "Epoch 52/100\n",
      "50000/50000 [==============================] - 8s 162us/step - loss: 0.0834 - acc: 0.9742 - val_loss: 3.0444 - val_acc: 0.5495\n",
      "Epoch 53/100\n",
      "50000/50000 [==============================] - 8s 161us/step - loss: 0.0853 - acc: 0.9743 - val_loss: 2.9167 - val_acc: 0.5501\n",
      "Epoch 54/100\n",
      "50000/50000 [==============================] - 8s 161us/step - loss: 0.0696 - acc: 0.9791 - val_loss: 3.1679 - val_acc: 0.5397\n",
      "Epoch 55/100\n"
     ]
    },
    {
     "name": "stdout",
     "output_type": "stream",
     "text": [
      "50000/50000 [==============================] - 8s 160us/step - loss: 0.0809 - acc: 0.9753 - val_loss: 3.1775 - val_acc: 0.5460\n",
      "Epoch 56/100\n",
      "50000/50000 [==============================] - 8s 162us/step - loss: 0.0719 - acc: 0.9785 - val_loss: 3.0827 - val_acc: 0.5521\n",
      "Epoch 57/100\n",
      "50000/50000 [==============================] - 8s 160us/step - loss: 0.0741 - acc: 0.9773 - val_loss: 3.0999 - val_acc: 0.5467\n",
      "Epoch 58/100\n",
      "50000/50000 [==============================] - 8s 168us/step - loss: 0.0765 - acc: 0.9773 - val_loss: 3.0677 - val_acc: 0.5442\n",
      "Epoch 59/100\n",
      "50000/50000 [==============================] - 8s 158us/step - loss: 0.0635 - acc: 0.9801 - val_loss: 3.1921 - val_acc: 0.5499\n",
      "Epoch 60/100\n",
      "50000/50000 [==============================] - 8s 157us/step - loss: 0.0630 - acc: 0.9807 - val_loss: 3.1957 - val_acc: 0.5410\n",
      "Epoch 61/100\n",
      "50000/50000 [==============================] - 8s 158us/step - loss: 0.0695 - acc: 0.9797 - val_loss: 3.1384 - val_acc: 0.5508\n",
      "Epoch 62/100\n",
      "50000/50000 [==============================] - 8s 158us/step - loss: 0.0606 - acc: 0.9812 - val_loss: 3.0802 - val_acc: 0.5461\n",
      "Epoch 63/100\n",
      "50000/50000 [==============================] - 8s 158us/step - loss: 0.0688 - acc: 0.9790 - val_loss: 2.9918 - val_acc: 0.5484\n",
      "Epoch 64/100\n",
      "50000/50000 [==============================] - 8s 158us/step - loss: 0.0691 - acc: 0.9793 - val_loss: 3.1482 - val_acc: 0.5504\n",
      "Epoch 65/100\n",
      "50000/50000 [==============================] - 8s 159us/step - loss: 0.0694 - acc: 0.9789 - val_loss: 3.1361 - val_acc: 0.5447\n",
      "Epoch 66/100\n",
      "50000/50000 [==============================] - 8s 159us/step - loss: 0.0665 - acc: 0.9803 - val_loss: 3.1753 - val_acc: 0.5483\n",
      "Epoch 67/100\n",
      "50000/50000 [==============================] - 8s 160us/step - loss: 0.0698 - acc: 0.9803 - val_loss: 3.2015 - val_acc: 0.5389\n",
      "Epoch 68/100\n",
      "50000/50000 [==============================] - 8s 159us/step - loss: 0.0666 - acc: 0.9801 - val_loss: 3.2315 - val_acc: 0.5561\n",
      "Epoch 69/100\n",
      "50000/50000 [==============================] - 8s 159us/step - loss: 0.0578 - acc: 0.9822 - val_loss: 3.2761 - val_acc: 0.5549\n",
      "Epoch 70/100\n",
      "50000/50000 [==============================] - 8s 158us/step - loss: 0.0594 - acc: 0.9823 - val_loss: 3.0374 - val_acc: 0.5534\n",
      "Epoch 71/100\n",
      "50000/50000 [==============================] - 8s 159us/step - loss: 0.0562 - acc: 0.9838 - val_loss: 3.3173 - val_acc: 0.5489\n",
      "Epoch 72/100\n",
      "50000/50000 [==============================] - 8s 158us/step - loss: 0.0642 - acc: 0.9808 - val_loss: 3.0986 - val_acc: 0.5461\n",
      "Epoch 73/100\n",
      "50000/50000 [==============================] - 8s 159us/step - loss: 0.0472 - acc: 0.9860 - val_loss: 3.2979 - val_acc: 0.5495\n",
      "Epoch 74/100\n",
      "50000/50000 [==============================] - 8s 158us/step - loss: 0.0707 - acc: 0.9796 - val_loss: 3.1173 - val_acc: 0.5438\n",
      "Epoch 75/100\n",
      "50000/50000 [==============================] - 8s 159us/step - loss: 0.0614 - acc: 0.9812 - val_loss: 3.1400 - val_acc: 0.5517\n",
      "Epoch 76/100\n",
      "50000/50000 [==============================] - 8s 158us/step - loss: 0.0465 - acc: 0.9865 - val_loss: 3.2783 - val_acc: 0.5480\n",
      "Epoch 77/100\n",
      "50000/50000 [==============================] - 8s 159us/step - loss: 0.0453 - acc: 0.9870 - val_loss: 3.3483 - val_acc: 0.5476\n",
      "Epoch 78/100\n",
      "50000/50000 [==============================] - 8s 159us/step - loss: 0.0592 - acc: 0.9831 - val_loss: 3.2383 - val_acc: 0.5472\n",
      "Epoch 79/100\n",
      "50000/50000 [==============================] - 8s 162us/step - loss: 0.0555 - acc: 0.9837 - val_loss: 3.2839 - val_acc: 0.5409\n",
      "Epoch 80/100\n",
      "50000/50000 [==============================] - 8s 166us/step - loss: 0.0485 - acc: 0.9862 - val_loss: 3.4528 - val_acc: 0.5411\n",
      "Epoch 81/100\n",
      "50000/50000 [==============================] - 8s 164us/step - loss: 0.0626 - acc: 0.9809 - val_loss: 3.1253 - val_acc: 0.5438\n",
      "Epoch 82/100\n",
      "50000/50000 [==============================] - 8s 162us/step - loss: 0.0566 - acc: 0.9834 - val_loss: 3.1686 - val_acc: 0.5443\n",
      "Epoch 83/100\n",
      "50000/50000 [==============================] - 8s 169us/step - loss: 0.0479 - acc: 0.9857 - val_loss: 3.3359 - val_acc: 0.5549\n",
      "Epoch 84/100\n",
      "50000/50000 [==============================] - 8s 166us/step - loss: 0.0393 - acc: 0.9879 - val_loss: 3.3810 - val_acc: 0.5501\n",
      "Epoch 85/100\n",
      "50000/50000 [==============================] - 8s 165us/step - loss: 0.0619 - acc: 0.9822 - val_loss: 3.1425 - val_acc: 0.5502\n",
      "Epoch 86/100\n",
      "50000/50000 [==============================] - 8s 163us/step - loss: 0.0626 - acc: 0.9812 - val_loss: 3.3807 - val_acc: 0.5504\n",
      "Epoch 87/100\n",
      "50000/50000 [==============================] - 8s 163us/step - loss: 0.0494 - acc: 0.9859 - val_loss: 3.2245 - val_acc: 0.5447\n",
      "Epoch 88/100\n",
      "50000/50000 [==============================] - 8s 162us/step - loss: 0.0496 - acc: 0.9857 - val_loss: 3.2194 - val_acc: 0.5515\n",
      "Epoch 89/100\n",
      "50000/50000 [==============================] - 8s 162us/step - loss: 0.0440 - acc: 0.9874 - val_loss: 3.2795 - val_acc: 0.5444\n",
      "Epoch 90/100\n",
      "50000/50000 [==============================] - 8s 162us/step - loss: 0.0516 - acc: 0.9848 - val_loss: 3.2385 - val_acc: 0.5447\n",
      "Epoch 91/100\n",
      "50000/50000 [==============================] - 8s 163us/step - loss: 0.0477 - acc: 0.9859 - val_loss: 3.2440 - val_acc: 0.5452\n",
      "Epoch 92/100\n",
      "50000/50000 [==============================] - 8s 163us/step - loss: 0.0320 - acc: 0.9904 - val_loss: 3.4544 - val_acc: 0.5473\n",
      "Epoch 93/100\n",
      "50000/50000 [==============================] - 8s 164us/step - loss: 0.0436 - acc: 0.9868 - val_loss: 3.1942 - val_acc: 0.5463\n",
      "Epoch 94/100\n",
      "50000/50000 [==============================] - 8s 164us/step - loss: 0.0448 - acc: 0.9874 - val_loss: 3.2355 - val_acc: 0.5521\n",
      "Epoch 95/100\n",
      "50000/50000 [==============================] - 8s 169us/step - loss: 0.0512 - acc: 0.9849 - val_loss: 3.2561 - val_acc: 0.5434\n",
      "Epoch 96/100\n",
      "50000/50000 [==============================] - 8s 164us/step - loss: 0.0506 - acc: 0.9854 - val_loss: 3.4214 - val_acc: 0.5511\n",
      "Epoch 97/100\n",
      "50000/50000 [==============================] - 8s 163us/step - loss: 0.0620 - acc: 0.9827 - val_loss: 3.2542 - val_acc: 0.5457\n",
      "Epoch 98/100\n",
      "50000/50000 [==============================] - 8s 163us/step - loss: 0.0383 - acc: 0.9887 - val_loss: 3.2674 - val_acc: 0.5489\n",
      "Epoch 99/100\n",
      "50000/50000 [==============================] - 8s 163us/step - loss: 0.0466 - acc: 0.9871 - val_loss: 3.1016 - val_acc: 0.5584\n",
      "Epoch 100/100\n",
      "50000/50000 [==============================] - 8s 165us/step - loss: 0.0425 - acc: 0.9874 - val_loss: 3.2605 - val_acc: 0.5484\n"
     ]
    },
    {
     "data": {
      "text/plain": [
       "<keras.callbacks.History at 0x17c859b92b0>"
      ]
     },
     "execution_count": 38,
     "metadata": {},
     "output_type": "execute_result"
    }
   ],
   "source": [
    "model.fit(x_train, y_train, \n",
    "          epochs=EPOCHS, \n",
    "          batch_size=BATCH_SIZE, \n",
    "          validation_data=(x_test, y_test), \n",
    "          shuffle=True)"
   ]
  },
  {
   "cell_type": "code",
   "execution_count": 40,
   "metadata": {},
   "outputs": [
    {
     "data": {
      "image/png": "[encoded data removed]",
      "text/plain": [
       "<Figure size 432x288 with 1 Axes>"
      ]
     },
     "metadata": {
      "needs_background": "light"
     },
     "output_type": "display_data"
    },
    {
     "data": {
      "image/png": "[encoded data removed]",
      "text/plain": [
       "<Figure size 432x288 with 1 Axes>"
      ]
     },
     "metadata": {
      "needs_background": "light"
     },
     "output_type": "display_data"
    }
   ],
   "source": [
    "import matplotlib.pyplot as plt\n",
    "\n",
    "\n",
    "train_loss = model.history.history[\"loss\"]\n",
    "valid_loss = model.history.history[\"val_loss\"]\n",
    "\n",
    "train_acc = model.history.history[\"acc\"]\n",
    "valid_acc = model.history.history[\"val_acc\"]\n",
    "\n",
    "plt.plot(range(len(train_loss)), train_loss, label=\"train loss\")\n",
    "plt.plot(range(len(valid_loss)), valid_loss, label=\"valid loss\")\n",
    "plt.legend()\n",
    "plt.title(\"Loss\")\n",
    "plt.show()\n",
    "\n",
    "plt.plot(range(len(train_acc)), train_acc, label=\"train accuracy\")\n",
    "plt.plot(range(len(valid_acc)), valid_acc, label=\"valid accuracy\")\n",
    "plt.legend()\n",
    "plt.title(\"Accuracy\")\n",
    "plt.show()"
   ]
  },
  {
   "cell_type": "code",
   "execution_count": null,
   "metadata": {},
   "outputs": [],
   "source": []
  }
 ],
 "metadata": {
  "kernelspec": {
   "display_name": "Python 3",
   "language": "python",
   "name": "python3"
  },
  "language_info": {
   "codemirror_mode": {
    "name": "ipython",
    "version": 3
   },
   "file_extension": ".py",
   "mimetype": "text/x-python",
   "name": "python",
   "nbconvert_exporter": "python",
   "pygments_lexer": "ipython3",
   "version": "3.7.3"
  }
 },
 "nbformat": 4,
 "nbformat_minor": 2
}
