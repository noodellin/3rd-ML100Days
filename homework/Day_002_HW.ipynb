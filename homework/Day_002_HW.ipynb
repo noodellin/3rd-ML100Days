#D2
#Q:Find a field that machine learning can be well applied
#Ans:
#I think my work is highly correlative in the field of machine learning.
#My job is dealing with complicated IC design layout, which
#we need to use the concept of unsupervised learning to simplify.
#The whole IC desigh layout is too complicated for computer calculation,
#so the first thing before layout calculation is layout analysis. 
#The layout analsis also use the dimension reduction and clustering,
#then the whole complicated layout can simply become groups of
#simple pattern.
#Therefore, we can find that almost all the complicated layout is just 
#simply consisted with some groups of simple pattern.
#So I think the field of IC design is highly correlative with
#machine learning.