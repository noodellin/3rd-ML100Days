{
 "cells": [
  {
   "cell_type": "markdown",
   "metadata": {},
   "source": [
    "## Work\n",
    "1. 試比較 save_best_only 與否的差異\n",
    "2. 請僅存入將 save_weights_only 設定為 True, 並嘗試 reset ipynb 並將模型與權重重新建回並預測 x_test"
   ]
  },
  {
   "cell_type": "code",
   "execution_count": 1,
   "metadata": {},
   "outputs": [
    {
     "name": "stderr",
     "output_type": "stream",
     "text": [
      "Using TensorFlow backend.\n"
     ]
    }
   ],
   "source": [
    "import os\n",
    "import keras\n",
    "\n",
    "# Disable GPU\n",
    "os.environ[\"CUDA_VISIBLE_DEVICES\"] = \"\""
   ]
  },
  {
   "cell_type": "code",
   "execution_count": 8,
   "metadata": {},
   "outputs": [],
   "source": [
    "train, test = keras.datasets.cifar10.load_data()"
   ]
  },
  {
   "cell_type": "code",
   "execution_count": 9,
   "metadata": {},
   "outputs": [],
   "source": [
    "## 資料前處理\n",
    "def preproc_x(x, flatten=True):\n",
    "    x = x / 255.\n",
    "    if flatten:\n",
    "        x = x.reshape((len(x), -1))\n",
    "    return x\n",
    "\n",
    "def preproc_y(y, num_classes=10):\n",
    "    if y.shape[-1] == 1:\n",
    "        y = keras.utils.to_categorical(y, num_classes)\n",
    "    return y    "
   ]
  },
  {
   "cell_type": "code",
   "execution_count": 10,
   "metadata": {},
   "outputs": [],
   "source": [
    "x_train, y_train = train\n",
    "x_test, y_test = test\n",
    "\n",
    "# Preproc the inputs\n",
    "x_train = preproc_x(x_train)\n",
    "x_test = preproc_x(x_test)\n",
    "\n",
    "# Preprc the outputs\n",
    "y_train = preproc_y(y_train)\n",
    "y_test = preproc_y(y_test)"
   ]
  },
  {
   "cell_type": "code",
   "execution_count": 11,
   "metadata": {},
   "outputs": [],
   "source": [
    "from keras.layers import BatchNormalization\n",
    "def build_mlp(input_shape, output_units=10, num_neurons=[512, 256, 128]):\n",
    "    input_layer = keras.layers.Input(input_shape)\n",
    "    \n",
    "    for i, n_units in enumerate(num_neurons):\n",
    "        if i == 0:\n",
    "            x = keras.layers.Dense(units=n_units, \n",
    "                                   activation=\"relu\", \n",
    "                                   name=\"hidden_layer\"+str(i+1))(input_layer)\n",
    "            x = BatchNormalization()(x)\n",
    "        else:\n",
    "            x = keras.layers.Dense(units=n_units, \n",
    "                                   activation=\"relu\", \n",
    "                                   name=\"hidden_layer\"+str(i+1))(x)\n",
    "            x = BatchNormalization()(x)\n",
    "    \n",
    "    out = keras.layers.Dense(units=output_units, activation=\"softmax\", name=\"output\")(x)\n",
    "    \n",
    "    model = keras.models.Model(inputs=[input_layer], outputs=[out])\n",
    "    return model"
   ]
  },
  {
   "cell_type": "code",
   "execution_count": 15,
   "metadata": {},
   "outputs": [],
   "source": [
    "LEARNING_RATE = 1e-3\n",
    "EPOCHS = 50\n",
    "BATCH_SIZE = 1024\n",
    "MOMENTUM = 0.95"
   ]
  },
  {
   "cell_type": "code",
   "execution_count": 7,
   "metadata": {},
   "outputs": [],
   "source": [
    "from keras.callbacks import ModelCheckpoint\n",
    "\n",
    "model_ckpt = [ModelCheckpoint(filepath=\"./tmp.h5\", monitor=\"val_loss\", save_best_only=True),\n",
    "              ModelCheckpoint(filepath=\"./tmp2.h5\", monitor=\"val_loss\", save_best_only=False)]\n"
   ]
  },
  {
   "cell_type": "code",
   "execution_count": 8,
   "metadata": {},
   "outputs": [
    {
     "data": {
      "text/plain": [
       "[<keras.callbacks.ModelCheckpoint at 0x257788dd160>,\n",
       " <keras.callbacks.ModelCheckpoint at 0x257788dd208>]"
      ]
     },
     "execution_count": 8,
     "metadata": {},
     "output_type": "execute_result"
    }
   ],
   "source": [
    "model_ckpt"
   ]
  },
  {
   "cell_type": "code",
   "execution_count": 20,
   "metadata": {},
   "outputs": [
    {
     "name": "stdout",
     "output_type": "stream",
     "text": [
      "_________________________________________________________________\n",
      "Layer (type)                 Output Shape              Param #   \n",
      "=================================================================\n",
      "input_3 (InputLayer)         (None, 3072)              0         \n",
      "_________________________________________________________________\n",
      "hidden_layer1 (Dense)        (None, 512)               1573376   \n",
      "_________________________________________________________________\n",
      "batch_normalization_7 (Batch (None, 512)               2048      \n",
      "_________________________________________________________________\n",
      "hidden_layer2 (Dense)        (None, 256)               131328    \n",
      "_________________________________________________________________\n",
      "batch_normalization_8 (Batch (None, 256)               1024      \n",
      "_________________________________________________________________\n",
      "hidden_layer3 (Dense)        (None, 128)               32896     \n",
      "_________________________________________________________________\n",
      "batch_normalization_9 (Batch (None, 128)               512       \n",
      "_________________________________________________________________\n",
      "output (Dense)               (None, 10)                1290      \n",
      "=================================================================\n",
      "Total params: 1,742,474\n",
      "Trainable params: 1,740,682\n",
      "Non-trainable params: 1,792\n",
      "_________________________________________________________________\n",
      "Train on 50000 samples, validate on 10000 samples\n",
      "Epoch 1/50\n",
      "50000/50000 [==============================] - 3s 61us/step - loss: 2.1960 - acc: 0.2713 - val_loss: 2.0633 - val_acc: 0.3207\n",
      "Epoch 2/50\n",
      "50000/50000 [==============================] - 2s 41us/step - loss: 1.7352 - acc: 0.3942 - val_loss: 1.8123 - val_acc: 0.3859\n",
      "Epoch 3/50\n",
      "50000/50000 [==============================] - 2s 41us/step - loss: 1.6112 - acc: 0.4365 - val_loss: 1.7000 - val_acc: 0.4120\n",
      "Epoch 4/50\n",
      "50000/50000 [==============================] - 2s 41us/step - loss: 1.5378 - acc: 0.4634 - val_loss: 1.6412 - val_acc: 0.4325\n",
      "Epoch 5/50\n",
      "50000/50000 [==============================] - 2s 41us/step - loss: 1.4857 - acc: 0.4796 - val_loss: 1.6158 - val_acc: 0.4414\n",
      "Epoch 6/50\n",
      "50000/50000 [==============================] - 2s 41us/step - loss: 1.4404 - acc: 0.4963 - val_loss: 1.5694 - val_acc: 0.4537\n",
      "Epoch 7/50\n",
      "50000/50000 [==============================] - 2s 42us/step - loss: 1.4007 - acc: 0.5117 - val_loss: 1.5463 - val_acc: 0.4643\n",
      "Epoch 8/50\n",
      "50000/50000 [==============================] - 2s 42us/step - loss: 1.3660 - acc: 0.5243 - val_loss: 1.5449 - val_acc: 0.4642\n",
      "Epoch 9/50\n",
      "50000/50000 [==============================] - 2s 43us/step - loss: 1.3355 - acc: 0.5349 - val_loss: 1.5147 - val_acc: 0.4750\n",
      "Epoch 10/50\n",
      "50000/50000 [==============================] - 2s 43us/step - loss: 1.3043 - acc: 0.5460 - val_loss: 1.5196 - val_acc: 0.4726\n",
      "Epoch 11/50\n",
      "50000/50000 [==============================] - 2s 42us/step - loss: 1.2772 - acc: 0.5559 - val_loss: 1.5051 - val_acc: 0.4753\n",
      "Epoch 12/50\n",
      "50000/50000 [==============================] - 2s 41us/step - loss: 1.2511 - acc: 0.5656 - val_loss: 1.5024 - val_acc: 0.4729\n",
      "Epoch 13/50\n",
      "50000/50000 [==============================] - 2s 40us/step - loss: 1.2252 - acc: 0.5757 - val_loss: 1.4947 - val_acc: 0.4791\n",
      "Epoch 14/50\n",
      "50000/50000 [==============================] - 2s 41us/step - loss: 1.2003 - acc: 0.5846 - val_loss: 1.4868 - val_acc: 0.4834\n",
      "Epoch 15/50\n",
      "50000/50000 [==============================] - 2s 41us/step - loss: 1.1769 - acc: 0.5944 - val_loss: 1.4888 - val_acc: 0.4832\n",
      "Epoch 16/50\n",
      "50000/50000 [==============================] - 2s 41us/step - loss: 1.1552 - acc: 0.6004 - val_loss: 1.4792 - val_acc: 0.4861\n",
      "Epoch 17/50\n",
      "50000/50000 [==============================] - 2s 41us/step - loss: 1.1318 - acc: 0.6103 - val_loss: 1.4667 - val_acc: 0.4958\n",
      "Epoch 18/50\n",
      "50000/50000 [==============================] - 2s 41us/step - loss: 1.1083 - acc: 0.6186 - val_loss: 1.4764 - val_acc: 0.4857\n",
      "Epoch 19/50\n",
      "50000/50000 [==============================] - 2s 41us/step - loss: 1.0871 - acc: 0.6272 - val_loss: 1.4750 - val_acc: 0.4894\n",
      "Epoch 20/50\n",
      "50000/50000 [==============================] - 2s 41us/step - loss: 1.0626 - acc: 0.6384 - val_loss: 1.4674 - val_acc: 0.4950\n",
      "Epoch 21/50\n",
      "50000/50000 [==============================] - 2s 40us/step - loss: 1.0420 - acc: 0.6444 - val_loss: 1.4837 - val_acc: 0.4826\n",
      "Epoch 22/50\n",
      "50000/50000 [==============================] - 2s 40us/step - loss: 1.0214 - acc: 0.6541 - val_loss: 1.4738 - val_acc: 0.4918\n",
      "Epoch 23/50\n",
      "50000/50000 [==============================] - 2s 41us/step - loss: 1.0000 - acc: 0.6617 - val_loss: 1.4582 - val_acc: 0.4974\n",
      "Epoch 24/50\n",
      "50000/50000 [==============================] - 2s 41us/step - loss: 0.9778 - acc: 0.6701 - val_loss: 1.4688 - val_acc: 0.4977\n",
      "Epoch 25/50\n",
      "50000/50000 [==============================] - 2s 41us/step - loss: 0.9592 - acc: 0.6773 - val_loss: 1.4927 - val_acc: 0.4887\n",
      "Epoch 26/50\n",
      "50000/50000 [==============================] - 2s 40us/step - loss: 0.9377 - acc: 0.6864 - val_loss: 1.4648 - val_acc: 0.5007\n",
      "Epoch 27/50\n",
      "50000/50000 [==============================] - 2s 40us/step - loss: 0.9156 - acc: 0.6945 - val_loss: 1.4697 - val_acc: 0.4987\n",
      "Epoch 28/50\n",
      "50000/50000 [==============================] - 2s 40us/step - loss: 0.8962 - acc: 0.7046 - val_loss: 1.4950 - val_acc: 0.4939\n",
      "Epoch 29/50\n",
      "50000/50000 [==============================] - 2s 41us/step - loss: 0.8755 - acc: 0.7108 - val_loss: 1.4851 - val_acc: 0.4954\n",
      "Epoch 30/50\n",
      "50000/50000 [==============================] - 2s 41us/step - loss: 0.8554 - acc: 0.7196 - val_loss: 1.4867 - val_acc: 0.4949\n",
      "Epoch 31/50\n",
      "50000/50000 [==============================] - 2s 42us/step - loss: 0.8347 - acc: 0.7270 - val_loss: 1.5286 - val_acc: 0.4847\n",
      "Epoch 32/50\n",
      "50000/50000 [==============================] - 2s 41us/step - loss: 0.8173 - acc: 0.7329 - val_loss: 1.5064 - val_acc: 0.4922\n",
      "Epoch 33/50\n",
      "50000/50000 [==============================] - 2s 41us/step - loss: 0.7985 - acc: 0.7428 - val_loss: 1.5143 - val_acc: 0.4974\n",
      "Epoch 34/50\n",
      "50000/50000 [==============================] - 2s 41us/step - loss: 0.7778 - acc: 0.7505 - val_loss: 1.4993 - val_acc: 0.4988\n",
      "Epoch 35/50\n",
      "50000/50000 [==============================] - 2s 40us/step - loss: 0.7575 - acc: 0.7588 - val_loss: 1.5199 - val_acc: 0.4930\n",
      "Epoch 36/50\n",
      "50000/50000 [==============================] - 2s 40us/step - loss: 0.7385 - acc: 0.7639 - val_loss: 1.5396 - val_acc: 0.4928\n",
      "Epoch 37/50\n",
      "50000/50000 [==============================] - 2s 41us/step - loss: 0.7178 - acc: 0.7738 - val_loss: 1.5420 - val_acc: 0.4942\n",
      "Epoch 38/50\n",
      "50000/50000 [==============================] - 2s 44us/step - loss: 0.6996 - acc: 0.7812 - val_loss: 1.5471 - val_acc: 0.4879\n",
      "Epoch 39/50\n",
      "50000/50000 [==============================] - 2s 43us/step - loss: 0.6814 - acc: 0.7876 - val_loss: 1.5579 - val_acc: 0.4882\n",
      "Epoch 40/50\n",
      "50000/50000 [==============================] - 2s 41us/step - loss: 0.6614 - acc: 0.7958 - val_loss: 1.5701 - val_acc: 0.4924\n",
      "Epoch 41/50\n",
      "50000/50000 [==============================] - 2s 40us/step - loss: 0.6449 - acc: 0.8027 - val_loss: 1.6048 - val_acc: 0.4874\n",
      "Epoch 42/50\n",
      "50000/50000 [==============================] - 2s 42us/step - loss: 0.6240 - acc: 0.8112 - val_loss: 1.5920 - val_acc: 0.4914\n",
      "Epoch 43/50\n",
      "50000/50000 [==============================] - 2s 42us/step - loss: 0.6080 - acc: 0.8176 - val_loss: 1.6079 - val_acc: 0.4889\n",
      "Epoch 44/50\n",
      "50000/50000 [==============================] - 2s 41us/step - loss: 0.5896 - acc: 0.8251 - val_loss: 1.6090 - val_acc: 0.4902\n",
      "Epoch 45/50\n",
      "50000/50000 [==============================] - 2s 41us/step - loss: 0.5711 - acc: 0.8335 - val_loss: 1.6176 - val_acc: 0.4913\n",
      "Epoch 46/50\n",
      "50000/50000 [==============================] - 2s 41us/step - loss: 0.5561 - acc: 0.8381 - val_loss: 1.6484 - val_acc: 0.4889\n",
      "Epoch 47/50\n",
      "50000/50000 [==============================] - 2s 41us/step - loss: 0.5379 - acc: 0.8449 - val_loss: 1.6521 - val_acc: 0.4870\n",
      "Epoch 48/50\n",
      "50000/50000 [==============================] - 2s 40us/step - loss: 0.5186 - acc: 0.8532 - val_loss: 1.6691 - val_acc: 0.4882\n",
      "Epoch 49/50\n",
      "50000/50000 [==============================] - 2s 40us/step - loss: 0.5034 - acc: 0.8583 - val_loss: 1.6832 - val_acc: 0.4869\n"
     ]
    },
    {
     "name": "stdout",
     "output_type": "stream",
     "text": [
      "Epoch 50/50\n",
      "50000/50000 [==============================] - 2s 42us/step - loss: 0.4883 - acc: 0.8640 - val_loss: 1.6928 - val_acc: 0.4865\n",
      "10000/10000 [==============================] - 1s 79us/step\n",
      "_________________________________________________________________\n",
      "Layer (type)                 Output Shape              Param #   \n",
      "=================================================================\n",
      "input_4 (InputLayer)         (None, 3072)              0         \n",
      "_________________________________________________________________\n",
      "hidden_layer1 (Dense)        (None, 512)               1573376   \n",
      "_________________________________________________________________\n",
      "batch_normalization_10 (Batc (None, 512)               2048      \n",
      "_________________________________________________________________\n",
      "hidden_layer2 (Dense)        (None, 256)               131328    \n",
      "_________________________________________________________________\n",
      "batch_normalization_11 (Batc (None, 256)               1024      \n",
      "_________________________________________________________________\n",
      "hidden_layer3 (Dense)        (None, 128)               32896     \n",
      "_________________________________________________________________\n",
      "batch_normalization_12 (Batc (None, 128)               512       \n",
      "_________________________________________________________________\n",
      "output (Dense)               (None, 10)                1290      \n",
      "=================================================================\n",
      "Total params: 1,742,474\n",
      "Trainable params: 1,740,682\n",
      "Non-trainable params: 1,792\n",
      "_________________________________________________________________\n",
      "Train on 50000 samples, validate on 10000 samples\n",
      "Epoch 1/50\n",
      "50000/50000 [==============================] - 3s 62us/step - loss: 2.1903 - acc: 0.2740 - val_loss: 2.0577 - val_acc: 0.3342\n",
      "Epoch 2/50\n",
      "50000/50000 [==============================] - 2s 41us/step - loss: 1.7332 - acc: 0.3940 - val_loss: 1.7866 - val_acc: 0.3807\n",
      "Epoch 3/50\n",
      "50000/50000 [==============================] - 2s 41us/step - loss: 1.6096 - acc: 0.4361 - val_loss: 1.6676 - val_acc: 0.4147\n",
      "Epoch 4/50\n",
      "50000/50000 [==============================] - 2s 40us/step - loss: 1.5365 - acc: 0.4633 - val_loss: 1.6245 - val_acc: 0.4343\n",
      "Epoch 5/50\n",
      "50000/50000 [==============================] - 2s 41us/step - loss: 1.4824 - acc: 0.4837 - val_loss: 1.5838 - val_acc: 0.4462\n",
      "Epoch 6/50\n",
      "50000/50000 [==============================] - 2s 41us/step - loss: 1.4359 - acc: 0.4991 - val_loss: 1.5727 - val_acc: 0.4469\n",
      "Epoch 7/50\n",
      "50000/50000 [==============================] - 2s 41us/step - loss: 1.3976 - acc: 0.5131 - val_loss: 1.5406 - val_acc: 0.4597\n",
      "Epoch 8/50\n",
      "50000/50000 [==============================] - 2s 41us/step - loss: 1.3632 - acc: 0.5248 - val_loss: 1.5242 - val_acc: 0.4627\n",
      "Epoch 9/50\n",
      "50000/50000 [==============================] - 2s 42us/step - loss: 1.3311 - acc: 0.5385 - val_loss: 1.5188 - val_acc: 0.4634\n",
      "Epoch 10/50\n",
      "50000/50000 [==============================] - 2s 41us/step - loss: 1.3016 - acc: 0.5478 - val_loss: 1.5063 - val_acc: 0.4705\n",
      "Epoch 11/50\n",
      "50000/50000 [==============================] - 2s 41us/step - loss: 1.2729 - acc: 0.5595 - val_loss: 1.4893 - val_acc: 0.4737\n",
      "Epoch 12/50\n",
      "50000/50000 [==============================] - 2s 40us/step - loss: 1.2460 - acc: 0.5681 - val_loss: 1.4825 - val_acc: 0.4763\n",
      "Epoch 13/50\n",
      "50000/50000 [==============================] - 2s 41us/step - loss: 1.2200 - acc: 0.5775 - val_loss: 1.4762 - val_acc: 0.4788\n",
      "Epoch 14/50\n",
      "50000/50000 [==============================] - 2s 42us/step - loss: 1.1943 - acc: 0.5886 - val_loss: 1.4754 - val_acc: 0.4864\n",
      "Epoch 15/50\n",
      "50000/50000 [==============================] - 2s 41us/step - loss: 1.1693 - acc: 0.5970 - val_loss: 1.4673 - val_acc: 0.4864\n",
      "Epoch 16/50\n",
      "50000/50000 [==============================] - 2s 41us/step - loss: 1.1468 - acc: 0.6060 - val_loss: 1.4650 - val_acc: 0.4898\n",
      "Epoch 17/50\n",
      "50000/50000 [==============================] - 2s 44us/step - loss: 1.1228 - acc: 0.6151 - val_loss: 1.4591 - val_acc: 0.4884\n",
      "Epoch 18/50\n",
      "50000/50000 [==============================] - 2s 41us/step - loss: 1.1000 - acc: 0.6240 - val_loss: 1.4639 - val_acc: 0.4889\n",
      "Epoch 19/50\n",
      "50000/50000 [==============================] - 2s 41us/step - loss: 1.0756 - acc: 0.6316 - val_loss: 1.4639 - val_acc: 0.4885\n",
      "Epoch 20/50\n",
      "50000/50000 [==============================] - 2s 41us/step - loss: 1.0549 - acc: 0.6416 - val_loss: 1.4569 - val_acc: 0.4935\n",
      "Epoch 21/50\n",
      "50000/50000 [==============================] - 2s 42us/step - loss: 1.0321 - acc: 0.6502 - val_loss: 1.4602 - val_acc: 0.4952\n",
      "Epoch 22/50\n",
      "50000/50000 [==============================] - 2s 44us/step - loss: 1.0104 - acc: 0.6582 - val_loss: 1.4673 - val_acc: 0.4934\n",
      "Epoch 23/50\n",
      "50000/50000 [==============================] - 2s 41us/step - loss: 0.9904 - acc: 0.6654 - val_loss: 1.4715 - val_acc: 0.4912\n",
      "Epoch 24/50\n",
      "50000/50000 [==============================] - 2s 40us/step - loss: 0.9697 - acc: 0.6734 - val_loss: 1.4629 - val_acc: 0.4967\n",
      "Epoch 25/50\n",
      "50000/50000 [==============================] - 2s 41us/step - loss: 0.9498 - acc: 0.6826 - val_loss: 1.4805 - val_acc: 0.4910\n",
      "Epoch 26/50\n",
      "50000/50000 [==============================] - 2s 40us/step - loss: 0.9284 - acc: 0.6891 - val_loss: 1.4729 - val_acc: 0.5001\n",
      "Epoch 27/50\n",
      "50000/50000 [==============================] - 2s 40us/step - loss: 0.9057 - acc: 0.6987 - val_loss: 1.4859 - val_acc: 0.4953\n",
      "Epoch 28/50\n",
      "50000/50000 [==============================] - 2s 40us/step - loss: 0.8863 - acc: 0.7069 - val_loss: 1.4773 - val_acc: 0.4947\n",
      "Epoch 29/50\n",
      "50000/50000 [==============================] - 2s 41us/step - loss: 0.8656 - acc: 0.7140 - val_loss: 1.4877 - val_acc: 0.4951\n",
      "Epoch 30/50\n",
      "50000/50000 [==============================] - 2s 41us/step - loss: 0.8452 - acc: 0.7235 - val_loss: 1.4878 - val_acc: 0.4943\n",
      "Epoch 31/50\n",
      "50000/50000 [==============================] - 2s 41us/step - loss: 0.8245 - acc: 0.7317 - val_loss: 1.4960 - val_acc: 0.4941\n",
      "Epoch 32/50\n",
      "50000/50000 [==============================] - 2s 41us/step - loss: 0.8051 - acc: 0.7385 - val_loss: 1.4985 - val_acc: 0.4977\n",
      "Epoch 33/50\n",
      "50000/50000 [==============================] - 2s 40us/step - loss: 0.7866 - acc: 0.7467 - val_loss: 1.5153 - val_acc: 0.4915\n",
      "Epoch 34/50\n",
      "50000/50000 [==============================] - 2s 40us/step - loss: 0.7680 - acc: 0.7531 - val_loss: 1.5108 - val_acc: 0.4987\n",
      "Epoch 35/50\n",
      "50000/50000 [==============================] - 2s 40us/step - loss: 0.7478 - acc: 0.7631 - val_loss: 1.5277 - val_acc: 0.4914\n",
      "Epoch 36/50\n",
      "50000/50000 [==============================] - 2s 40us/step - loss: 0.7277 - acc: 0.7704 - val_loss: 1.5450 - val_acc: 0.4947\n",
      "Epoch 37/50\n",
      "50000/50000 [==============================] - 2s 41us/step - loss: 0.7076 - acc: 0.7793 - val_loss: 1.5412 - val_acc: 0.4963\n",
      "Epoch 38/50\n",
      "50000/50000 [==============================] - 2s 41us/step - loss: 0.6905 - acc: 0.7851 - val_loss: 1.5537 - val_acc: 0.4957\n",
      "Epoch 39/50\n",
      "50000/50000 [==============================] - 2s 41us/step - loss: 0.6703 - acc: 0.7930 - val_loss: 1.5555 - val_acc: 0.4918\n",
      "Epoch 40/50\n",
      "50000/50000 [==============================] - 2s 41us/step - loss: 0.6539 - acc: 0.7999 - val_loss: 1.5614 - val_acc: 0.4917\n",
      "Epoch 41/50\n",
      "50000/50000 [==============================] - 2s 40us/step - loss: 0.6349 - acc: 0.8072 - val_loss: 1.5847 - val_acc: 0.4945\n",
      "Epoch 42/50\n",
      "50000/50000 [==============================] - 2s 41us/step - loss: 0.6154 - acc: 0.8158 - val_loss: 1.5868 - val_acc: 0.4984\n",
      "Epoch 43/50\n",
      "50000/50000 [==============================] - 2s 41us/step - loss: 0.5976 - acc: 0.8225 - val_loss: 1.5984 - val_acc: 0.4849\n",
      "Epoch 44/50\n",
      "50000/50000 [==============================] - 2s 42us/step - loss: 0.5802 - acc: 0.8282 - val_loss: 1.6092 - val_acc: 0.4930\n",
      "Epoch 45/50\n",
      "50000/50000 [==============================] - 2s 41us/step - loss: 0.5632 - acc: 0.8344 - val_loss: 1.6226 - val_acc: 0.4959\n",
      "Epoch 46/50\n",
      "50000/50000 [==============================] - 2s 40us/step - loss: 0.5462 - acc: 0.8435 - val_loss: 1.6334 - val_acc: 0.4947\n",
      "Epoch 47/50\n",
      "50000/50000 [==============================] - 2s 41us/step - loss: 0.5280 - acc: 0.8494 - val_loss: 1.6394 - val_acc: 0.4908\n",
      "Epoch 48/50\n",
      "50000/50000 [==============================] - 2s 41us/step - loss: 0.5119 - acc: 0.8559 - val_loss: 1.6587 - val_acc: 0.4918\n",
      "Epoch 49/50\n",
      "50000/50000 [==============================] - 2s 40us/step - loss: 0.4963 - acc: 0.8629 - val_loss: 1.6704 - val_acc: 0.4858\n",
      "Epoch 50/50\n",
      "50000/50000 [==============================] - 2s 41us/step - loss: 0.4787 - acc: 0.8691 - val_loss: 1.6990 - val_acc: 0.4892\n",
      "10000/10000 [==============================] - 1s 91us/step\n"
     ]
    }
   ],
   "source": [
    "results = {}\n",
    "\"\"\"Code Here\n",
    "撰寫你的訓練流程並將結果用 dictionary 紀錄\n",
    "\"\"\"\n",
    "for i,ckpt in enumerate(model_ckpt):\n",
    "    model = build_mlp(input_shape=x_train.shape[1:])\n",
    "    model.summary()\n",
    "    optimizer = keras.optimizers.SGD(lr=LEARNING_RATE, nesterov=True, momentum=MOMENTUM)\n",
    "    model.compile(loss=\"categorical_crossentropy\", metrics=[\"accuracy\"], optimizer=optimizer)\n",
    "\n",
    "    model.fit(x_train, y_train, \n",
    "                epochs=EPOCHS, \n",
    "                batch_size=BATCH_SIZE, \n",
    "                validation_data=(x_test, y_test), \n",
    "                shuffle=True,\n",
    "                callbacks=[ckpt]\n",
    "                )\n",
    "    \n",
    "    # Collect results\n",
    "    train_loss = model.history.history[\"loss\"]\n",
    "    valid_loss = model.history.history[\"val_loss\"]\n",
    "    train_acc = model.history.history[\"acc\"]\n",
    "    valid_acc = model.history.history[\"val_acc\"]\n",
    "    if i == 0:\n",
    "        exp_name_tag = \"save_best_only\" \n",
    "        # Load back\n",
    "        model = keras.models.load_model(\"./tmp.h5\")\n",
    "        loss_loadback, acc_loadback = model.evaluate(x_test, y_test)\n",
    "    else:\n",
    "        exp_name_tag = \"WO_save_best_only\"\n",
    "        # Load back\n",
    "        model = keras.models.load_model(\"./tmp2.h5\")\n",
    "        loss_loadback2, acc_loadback2 = model.evaluate(x_test, y_test)\n",
    "    results[exp_name_tag] = {'train-loss': train_loss,\n",
    "                             'valid-loss': valid_loss,\n",
    "                             'train-acc': train_acc,\n",
    "                             'valid-acc': valid_acc}\n"
   ]
  },
  {
   "cell_type": "code",
   "execution_count": 21,
   "metadata": {
    "scrolled": true
   },
   "outputs": [
    {
     "data": {
      "image/png": "[encoded data removed]",
      "text/plain": [
       "<Figure size 576x432 with 1 Axes>"
      ]
     },
     "metadata": {
      "needs_background": "light"
     },
     "output_type": "display_data"
    },
    {
     "data": {
      "image/png": "[encoded data removed]",
      "text/plain": [
       "<Figure size 576x432 with 1 Axes>"
      ]
     },
     "metadata": {
      "needs_background": "light"
     },
     "output_type": "display_data"
    }
   ],
   "source": [
    "import matplotlib.pyplot as plt\n",
    "%matplotlib inline\n",
    "color_bar = [\"r\", \"g\", \"b\", \"y\", \"m\", \"k\"]\n",
    "\n",
    "plt.figure(figsize=(8,6))\n",
    "for i, cond in enumerate(results.keys()):\n",
    "    plt.plot(range(len(results[cond]['train-loss'])),results[cond]['train-loss'], '-', label=cond, color=color_bar[i])\n",
    "    plt.plot(range(len(results[cond]['valid-loss'])),results[cond]['valid-loss'], '--', label=cond, color=color_bar[i])\n",
    "plt.hlines(y=loss_loadback, xmin=0, xmax=len(train_loss),label=\"best_only_result\", colors='b', linestyles=\"dashdot\")\n",
    "plt.hlines(y=loss_loadback2, xmin=0, xmax=len(train_loss),label=\"WO_best_only_result\", colors='y', linestyles='dashdot')\n",
    "plt.title(\"Loss\")\n",
    "plt.legend(loc=\"best\")\n",
    "plt.show()\n",
    "\n",
    "plt.figure(figsize=(8,6))\n",
    "for i, cond in enumerate(results.keys()):\n",
    "    plt.plot(range(len(results[cond]['train-acc'])),results[cond]['train-acc'], '-', label=cond, color=color_bar[i])\n",
    "    plt.plot(range(len(results[cond]['valid-acc'])),results[cond]['valid-acc'], '--', label=cond, color=color_bar[i])\n",
    "plt.hlines(y=acc_loadback, xmin=0, xmax=len(train_loss),label=\"best_only_result\", colors='b', linestyles='dashdot')\n",
    "plt.hlines(y=acc_loadback2, xmin=0, xmax=len(train_loss),label=\"WO_best_only_result\", colors='y', linestyles='dashdot')\n",
    "plt.title(\"Accuracy\")\n",
    "plt.legend(loc=\"best\")\n",
    "plt.show()"
   ]
  },
  {
   "cell_type": "code",
   "execution_count": 28,
   "metadata": {},
   "outputs": [],
   "source": [
    "model_ckpt = ModelCheckpoint(filepath=\"./tmp3.h5\", monitor=\"val_loss\", save_weights_only=True)"
   ]
  },
  {
   "cell_type": "code",
   "execution_count": 29,
   "metadata": {},
   "outputs": [
    {
     "name": "stdout",
     "output_type": "stream",
     "text": [
      "_________________________________________________________________\n",
      "Layer (type)                 Output Shape              Param #   \n",
      "=================================================================\n",
      "input_8 (InputLayer)         (None, 3072)              0         \n",
      "_________________________________________________________________\n",
      "hidden_layer1 (Dense)        (None, 512)               1573376   \n",
      "_________________________________________________________________\n",
      "batch_normalization_22 (Batc (None, 512)               2048      \n",
      "_________________________________________________________________\n",
      "hidden_layer2 (Dense)        (None, 256)               131328    \n",
      "_________________________________________________________________\n",
      "batch_normalization_23 (Batc (None, 256)               1024      \n",
      "_________________________________________________________________\n",
      "hidden_layer3 (Dense)        (None, 128)               32896     \n",
      "_________________________________________________________________\n",
      "batch_normalization_24 (Batc (None, 128)               512       \n",
      "_________________________________________________________________\n",
      "output (Dense)               (None, 10)                1290      \n",
      "=================================================================\n",
      "Total params: 1,742,474\n",
      "Trainable params: 1,740,682\n",
      "Non-trainable params: 1,792\n",
      "_________________________________________________________________\n",
      "Train on 50000 samples, validate on 10000 samples\n",
      "Epoch 1/50\n",
      "50000/50000 [==============================] - 4s 71us/step - loss: 2.2115 - acc: 0.2641 - val_loss: 2.1294 - val_acc: 0.3022\n",
      "Epoch 2/50\n",
      "50000/50000 [==============================] - 2s 41us/step - loss: 1.7360 - acc: 0.3908 - val_loss: 1.7861 - val_acc: 0.3808\n",
      "Epoch 3/50\n",
      "50000/50000 [==============================] - 2s 41us/step - loss: 1.6112 - acc: 0.4330 - val_loss: 1.6831 - val_acc: 0.4070\n",
      "Epoch 4/50\n",
      "50000/50000 [==============================] - 2s 40us/step - loss: 1.5392 - acc: 0.4578 - val_loss: 1.6168 - val_acc: 0.4372\n",
      "Epoch 5/50\n",
      "50000/50000 [==============================] - 2s 40us/step - loss: 1.4855 - acc: 0.4787 - val_loss: 1.5831 - val_acc: 0.4442\n",
      "Epoch 6/50\n",
      "50000/50000 [==============================] - 2s 41us/step - loss: 1.4382 - acc: 0.4967 - val_loss: 1.5602 - val_acc: 0.4554\n",
      "Epoch 7/50\n",
      "50000/50000 [==============================] - 2s 41us/step - loss: 1.3999 - acc: 0.5099 - val_loss: 1.5384 - val_acc: 0.4553\n",
      "Epoch 8/50\n",
      "50000/50000 [==============================] - 2s 41us/step - loss: 1.3642 - acc: 0.5240 - val_loss: 1.5411 - val_acc: 0.4614\n",
      "Epoch 9/50\n",
      "50000/50000 [==============================] - 2s 41us/step - loss: 1.3334 - acc: 0.5348 - val_loss: 1.5336 - val_acc: 0.4591\n",
      "Epoch 10/50\n",
      "50000/50000 [==============================] - 2s 40us/step - loss: 1.3036 - acc: 0.5468 - val_loss: 1.5147 - val_acc: 0.4641\n",
      "Epoch 11/50\n",
      "50000/50000 [==============================] - 2s 41us/step - loss: 1.2739 - acc: 0.5592 - val_loss: 1.5137 - val_acc: 0.4680\n",
      "Epoch 12/50\n",
      "50000/50000 [==============================] - 2s 40us/step - loss: 1.2489 - acc: 0.5689 - val_loss: 1.4924 - val_acc: 0.4726\n",
      "Epoch 13/50\n",
      "50000/50000 [==============================] - 2s 41us/step - loss: 1.2236 - acc: 0.5771 - val_loss: 1.4755 - val_acc: 0.4758\n",
      "Epoch 14/50\n",
      "50000/50000 [==============================] - 2s 41us/step - loss: 1.1950 - acc: 0.5902 - val_loss: 1.4704 - val_acc: 0.4772\n",
      "Epoch 15/50\n",
      "50000/50000 [==============================] - 2s 40us/step - loss: 1.1727 - acc: 0.5984 - val_loss: 1.4708 - val_acc: 0.4850\n",
      "Epoch 16/50\n",
      "50000/50000 [==============================] - 2s 40us/step - loss: 1.1493 - acc: 0.6061 - val_loss: 1.4687 - val_acc: 0.4852\n",
      "Epoch 17/50\n",
      "50000/50000 [==============================] - 2s 41us/step - loss: 1.1249 - acc: 0.6170 - val_loss: 1.4640 - val_acc: 0.4937\n",
      "Epoch 18/50\n",
      "50000/50000 [==============================] - 2s 41us/step - loss: 1.1039 - acc: 0.6225 - val_loss: 1.4811 - val_acc: 0.4801\n",
      "Epoch 19/50\n",
      "50000/50000 [==============================] - 2s 40us/step - loss: 1.0826 - acc: 0.6310 - val_loss: 1.4610 - val_acc: 0.4898\n",
      "Epoch 20/50\n",
      "50000/50000 [==============================] - 2s 41us/step - loss: 1.0617 - acc: 0.6378 - val_loss: 1.4675 - val_acc: 0.4898\n",
      "Epoch 21/50\n",
      "50000/50000 [==============================] - 2s 42us/step - loss: 1.0401 - acc: 0.6466 - val_loss: 1.4614 - val_acc: 0.4874\n",
      "Epoch 22/50\n",
      "50000/50000 [==============================] - 2s 41us/step - loss: 1.0188 - acc: 0.6553 - val_loss: 1.4755 - val_acc: 0.4872\n",
      "Epoch 23/50\n",
      "50000/50000 [==============================] - 2s 41us/step - loss: 0.9966 - acc: 0.6639 - val_loss: 1.4585 - val_acc: 0.4918\n",
      "Epoch 24/50\n",
      "50000/50000 [==============================] - 2s 41us/step - loss: 0.9778 - acc: 0.6714 - val_loss: 1.4630 - val_acc: 0.4915\n",
      "Epoch 25/50\n",
      "50000/50000 [==============================] - 2s 40us/step - loss: 0.9551 - acc: 0.6798 - val_loss: 1.4648 - val_acc: 0.4923\n",
      "Epoch 26/50\n",
      "50000/50000 [==============================] - 2s 41us/step - loss: 0.9353 - acc: 0.6880 - val_loss: 1.4833 - val_acc: 0.4880\n",
      "Epoch 27/50\n",
      "50000/50000 [==============================] - 2s 40us/step - loss: 0.9149 - acc: 0.6940 - val_loss: 1.4791 - val_acc: 0.4891\n",
      "Epoch 28/50\n",
      "50000/50000 [==============================] - 2s 41us/step - loss: 0.8946 - acc: 0.7034 - val_loss: 1.4754 - val_acc: 0.4961\n",
      "Epoch 29/50\n",
      "50000/50000 [==============================] - 2s 40us/step - loss: 0.8755 - acc: 0.7110 - val_loss: 1.4906 - val_acc: 0.4874\n",
      "Epoch 30/50\n",
      "50000/50000 [==============================] - 2s 40us/step - loss: 0.8575 - acc: 0.7157 - val_loss: 1.4804 - val_acc: 0.4924\n",
      "Epoch 31/50\n",
      "50000/50000 [==============================] - 2s 40us/step - loss: 0.8371 - acc: 0.7256 - val_loss: 1.4906 - val_acc: 0.4923\n",
      "Epoch 32/50\n",
      "50000/50000 [==============================] - 2s 41us/step - loss: 0.8162 - acc: 0.7351 - val_loss: 1.5033 - val_acc: 0.4909\n",
      "Epoch 33/50\n",
      "50000/50000 [==============================] - 2s 40us/step - loss: 0.7972 - acc: 0.7405 - val_loss: 1.4907 - val_acc: 0.4969\n",
      "Epoch 34/50\n",
      "50000/50000 [==============================] - 2s 41us/step - loss: 0.7792 - acc: 0.7489 - val_loss: 1.5183 - val_acc: 0.4889\n",
      "Epoch 35/50\n",
      "50000/50000 [==============================] - 2s 40us/step - loss: 0.7601 - acc: 0.7558 - val_loss: 1.5257 - val_acc: 0.4902\n",
      "Epoch 36/50\n",
      "50000/50000 [==============================] - 2s 40us/step - loss: 0.7427 - acc: 0.7610 - val_loss: 1.5152 - val_acc: 0.4917\n",
      "Epoch 37/50\n",
      "50000/50000 [==============================] - 2s 40us/step - loss: 0.7247 - acc: 0.7715 - val_loss: 1.5391 - val_acc: 0.4891\n",
      "Epoch 38/50\n",
      "50000/50000 [==============================] - 2s 41us/step - loss: 0.7049 - acc: 0.7786 - val_loss: 1.5452 - val_acc: 0.4903\n",
      "Epoch 39/50\n",
      "50000/50000 [==============================] - 2s 40us/step - loss: 0.6863 - acc: 0.7850 - val_loss: 1.5516 - val_acc: 0.4874\n",
      "Epoch 40/50\n",
      "50000/50000 [==============================] - 2s 40us/step - loss: 0.6682 - acc: 0.7935 - val_loss: 1.5522 - val_acc: 0.4914\n",
      "Epoch 41/50\n",
      "50000/50000 [==============================] - 2s 40us/step - loss: 0.6491 - acc: 0.8013 - val_loss: 1.5598 - val_acc: 0.4928\n",
      "Epoch 42/50\n",
      "50000/50000 [==============================] - 2s 41us/step - loss: 0.6326 - acc: 0.8072 - val_loss: 1.5786 - val_acc: 0.4884\n",
      "Epoch 43/50\n",
      "50000/50000 [==============================] - 2s 40us/step - loss: 0.6152 - acc: 0.8148 - val_loss: 1.5892 - val_acc: 0.4873\n",
      "Epoch 44/50\n",
      "50000/50000 [==============================] - 2s 40us/step - loss: 0.5966 - acc: 0.8215 - val_loss: 1.5976 - val_acc: 0.4900\n",
      "Epoch 45/50\n",
      "50000/50000 [==============================] - 2s 40us/step - loss: 0.5808 - acc: 0.8292 - val_loss: 1.6272 - val_acc: 0.4916\n",
      "Epoch 46/50\n",
      "50000/50000 [==============================] - 2s 40us/step - loss: 0.5617 - acc: 0.8361 - val_loss: 1.6325 - val_acc: 0.4851\n",
      "Epoch 47/50\n",
      "50000/50000 [==============================] - 2s 40us/step - loss: 0.5460 - acc: 0.8429 - val_loss: 1.6220 - val_acc: 0.4926\n",
      "Epoch 48/50\n",
      "50000/50000 [==============================] - 2s 40us/step - loss: 0.5291 - acc: 0.8493 - val_loss: 1.6588 - val_acc: 0.4849\n",
      "Epoch 49/50\n",
      "50000/50000 [==============================] - 2s 40us/step - loss: 0.5122 - acc: 0.8563 - val_loss: 1.6669 - val_acc: 0.4897\n"
     ]
    },
    {
     "name": "stdout",
     "output_type": "stream",
     "text": [
      "Epoch 50/50\n",
      "50000/50000 [==============================] - 2s 40us/step - loss: 0.4937 - acc: 0.8623 - val_loss: 1.6816 - val_acc: 0.4833\n"
     ]
    }
   ],
   "source": [
    "model = build_mlp(input_shape=x_train.shape[1:])\n",
    "model.summary()\n",
    "optimizer = keras.optimizers.SGD(lr=LEARNING_RATE, nesterov=True, momentum=MOMENTUM)\n",
    "model.compile(loss=\"categorical_crossentropy\", metrics=[\"accuracy\"], optimizer=optimizer)\n",
    "\n",
    "model.fit(x_train, y_train, \n",
    "          epochs=EPOCHS, \n",
    "          batch_size=BATCH_SIZE, \n",
    "          validation_data=(x_test, y_test), \n",
    "          shuffle=True,\n",
    "          callbacks=[model_ckpt]\n",
    "         )\n",
    "\n",
    "# Collect results\n",
    "train_loss = model.history.history[\"loss\"]\n",
    "valid_loss = model.history.history[\"val_loss\"]\n",
    "train_acc = model.history.history[\"acc\"]\n",
    "valid_acc = model.history.history[\"val_acc\"]\n",
    "\n",
    "# Load back\n",
    "#model = keras.models.load_model(\"./tmp3.h5\")\n",
    "#loss_loadback, acc_loadback = model.evaluate(x_test, y_test)"
   ]
  },
  {
   "cell_type": "code",
   "execution_count": 30,
   "metadata": {},
   "outputs": [
    {
     "data": {
      "image/png": "[encoded data removed]",
      "text/plain": [
       "<Figure size 432x288 with 1 Axes>"
      ]
     },
     "metadata": {
      "needs_background": "light"
     },
     "output_type": "display_data"
    },
    {
     "data": {
      "image/png": "[encoded data removed]",
      "text/plain": [
       "<Figure size 432x288 with 1 Axes>"
      ]
     },
     "metadata": {
      "needs_background": "light"
     },
     "output_type": "display_data"
    }
   ],
   "source": [
    "plt.plot(range(len(train_loss)), train_loss, label=\"train loss\")\n",
    "plt.plot(range(len(valid_loss)), valid_loss, label=\"valid loss\")\n",
    "#plt.hlines(y=loss_loadback, xmin=0, xmax=len(train_loss), colors='r', linestyles='--')\n",
    "plt.legend()\n",
    "plt.title(\"Loss\")\n",
    "plt.show()\n",
    "\n",
    "plt.plot(range(len(train_acc)), train_acc, label=\"train accuracy\")\n",
    "plt.plot(range(len(valid_acc)), valid_acc, label=\"valid accuracy\")\n",
    "#plt.hlines(y=acc_loadback, xmin=0, xmax=len(train_loss), colors='r', linestyles='--')\n",
    "plt.legend()\n",
    "plt.title(\"Accuracy\")\n",
    "plt.show()"
   ]
  },
  {
   "cell_type": "code",
   "execution_count": 22,
   "metadata": {},
   "outputs": [
    {
     "name": "stdout",
     "output_type": "stream",
     "text": [
      "_________________________________________________________________\n",
      "Layer (type)                 Output Shape              Param #   \n",
      "=================================================================\n",
      "input_5 (InputLayer)         (None, 3072)              0         \n",
      "_________________________________________________________________\n",
      "hidden_layer1 (Dense)        (None, 512)               1573376   \n",
      "_________________________________________________________________\n",
      "batch_normalization_13 (Batc (None, 512)               2048      \n",
      "_________________________________________________________________\n",
      "hidden_layer2 (Dense)        (None, 256)               131328    \n",
      "_________________________________________________________________\n",
      "batch_normalization_14 (Batc (None, 256)               1024      \n",
      "_________________________________________________________________\n",
      "hidden_layer3 (Dense)        (None, 128)               32896     \n",
      "_________________________________________________________________\n",
      "batch_normalization_15 (Batc (None, 128)               512       \n",
      "_________________________________________________________________\n",
      "output (Dense)               (None, 10)                1290      \n",
      "=================================================================\n",
      "Total params: 1,742,474\n",
      "Trainable params: 1,740,682\n",
      "Non-trainable params: 1,792\n",
      "_________________________________________________________________\n",
      "10000/10000 [==============================] - 1s 64us/step\n"
     ]
    }
   ],
   "source": [
    "import keras\n",
    "# Load back\n",
    "model = build_mlp(input_shape=x_train.shape[1:])\n",
    "model.summary()\n",
    "optimizer = keras.optimizers.SGD(lr=LEARNING_RATE, nesterov=True, momentum=MOMENTUM)\n",
    "model.compile(loss=\"categorical_crossentropy\", metrics=[\"accuracy\"], optimizer=optimizer)\n",
    "\n",
    "model.load_weights(\"./tmp3.h5\")\n",
    "loss_loadback, acc_loadback = model.evaluate(x_test, y_test)"
   ]
  },
  {
   "cell_type": "code",
   "execution_count": 23,
   "metadata": {},
   "outputs": [
    {
     "data": {
      "image/png": "[encoded data removed]",
      "text/plain": [
       "<Figure size 432x288 with 1 Axes>"
      ]
     },
     "metadata": {
      "needs_background": "light"
     },
     "output_type": "display_data"
    },
    {
     "data": {
      "image/png": "[encoded data removed]",
      "text/plain": [
       "<Figure size 432x288 with 1 Axes>"
      ]
     },
     "metadata": {
      "needs_background": "light"
     },
     "output_type": "display_data"
    }
   ],
   "source": [
    "import matplotlib.pyplot as plt\n",
    "%matplotlib inline\n",
    "#plt.plot(range(len(train_loss)), train_loss, label=\"train loss\")\n",
    "#plt.plot(range(len(valid_loss)), valid_loss, label=\"valid loss\")\n",
    "plt.hlines(y=loss_loadback, xmin=0, xmax=50, colors='r', linestyles='--')\n",
    "#plt.legend()\n",
    "plt.title(\"Loss\")\n",
    "plt.show()\n",
    "\n",
    "#plt.plot(range(len(train_acc)), train_acc, label=\"train accuracy\")\n",
    "#plt.plot(range(len(valid_acc)), valid_acc, label=\"valid accuracy\")\n",
    "plt.hlines(y=acc_loadback, xmin=0, xmax=50, colors='r', linestyles='--')\n",
    "#plt.legend()\n",
    "plt.title(\"Accuracy\")\n",
    "plt.show()"
   ]
  },
  {
   "cell_type": "code",
   "execution_count": null,
   "metadata": {},
   "outputs": [],
   "source": []
  }
 ],
 "metadata": {
  "kernelspec": {
   "display_name": "Python 3",
   "language": "python",
   "name": "python3"
  },
  "language_info": {
   "codemirror_mode": {
    "name": "ipython",
    "version": 3
   },
   "file_extension": ".py",
   "mimetype": "text/x-python",
   "name": "python",
   "nbconvert_exporter": "python",
   "pygments_lexer": "ipython3",
   "version": "3.7.3"
  }
 },
 "nbformat": 4,
 "nbformat_minor": 2
}
