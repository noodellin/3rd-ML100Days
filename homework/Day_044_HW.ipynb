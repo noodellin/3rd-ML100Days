{
 "cells": [
  {
   "cell_type": "markdown",
   "metadata": {},
   "source": [
    "## [作業重點]\n",
    "確保你了解隨機森林模型中每個超參數的意義，並觀察調整超參數對結果的影響"
   ]
  },
  {
   "cell_type": "markdown",
   "metadata": {},
   "source": [
    "## 作業\n",
    "\n",
    "1. 試著調整 RandomForestClassifier(...) 中的參數，並觀察是否會改變結果？\n",
    "2. 改用其他資料集 (boston, wine)，並與回歸模型與決策樹的結果進行比較"
   ]
  },
  {
   "cell_type": "code",
   "execution_count": 43,
   "metadata": {},
   "outputs": [],
   "source": [
    "from sklearn import datasets, metrics\n",
    "from sklearn.ensemble import RandomForestClassifier, RandomForestRegressor\n",
    "from sklearn.tree import DecisionTreeClassifier,DecisionTreeRegressor\n",
    "from sklearn.linear_model import LinearRegression\n",
    "from sklearn.model_selection import train_test_split\n",
    "from sklearn.tree import export_graphviz\n",
    "from fractions import Fraction"
   ]
  },
  {
   "cell_type": "code",
   "execution_count": 65,
   "metadata": {},
   "outputs": [
    {
     "name": "stdout",
     "output_type": "stream",
     "text": [
      "accuracy of iris RFC: 0.9777777777777777\n",
      "[2 0 2 2 2 1 1 0 0 2 0 0 0 1 2 0 1 0 0 2 0 2 1 0 0 0 0 0 0 2 1 0 2 0 1 2 2\n",
      " 1 1 0 2 0 1 0 2] \n",
      " [2 0 2 2 2 1 2 0 0 2 0 0 0 1 2 0 1 0 0 2 0 2 1 0 0 0 0 0 0 2 1 0 2 0 1 2 2\n",
      " 1 1 0 2 0 1 0 2]\n",
      "accuracy of iris DTC: 0.9777777777777777\n",
      "[2 0 2 2 2 1 1 0 0 2 0 0 0 1 2 0 1 0 0 2 0 2 1 0 0 0 0 0 0 2 1 0 2 0 1 2 2\n",
      " 1 1 0 2 0 1 0 2] \n",
      " [2 0 2 2 2 1 2 0 0 2 0 0 0 1 2 0 1 0 0 2 0 2 1 0 0 0 0 0 0 2 1 0 2 0 1 2 2\n",
      " 1 1 0 2 0 1 0 2]\n"
     ]
    }
   ],
   "source": [
    "iris = datasets.load_iris()\n",
    "\n",
    "RFC = RandomForestClassifier(n_estimators=200,max_depth=4)\n",
    "DTC = DecisionTreeClassifier()\n",
    "x_train,x_test,y_train,y_test = train_test_split(iris.data,iris.target,test_size = 0.3,random_state=4)\n",
    "\n",
    "DTC.fit(x_train,y_train)\n",
    "RFC.fit(x_train,y_train)\n",
    "\n",
    "y_pred=RFC.predict(x_test)\n",
    "y_pred2=DTC.predict(x_test)\n",
    "print(\"accuracy of iris RFC:\", metrics.accuracy_score(y_test,y_pred))\n",
    "print(y_test,\"\\n\",y_pred)\n",
    "print(\"accuracy of iris DTC:\", metrics.accuracy_score(y_test,y_pred2))\n",
    "print(y_test,\"\\n\",y_pred2)\n",
    "export_graphviz(DTC,out_file=\"iris_DTC.dot\")"
   ]
  },
  {
   "cell_type": "code",
   "execution_count": 93,
   "metadata": {},
   "outputs": [
    {
     "name": "stdout",
     "output_type": "stream",
     "text": [
      "MSE of boston RFR: 21.155181216683882\n",
      "MSE of boston DTR: 25.272462730183754\n",
      "['CRIM' 'ZN' 'INDUS' 'CHAS' 'NOX' 'RM' 'AGE' 'DIS' 'RAD' 'TAX' 'PTRATIO'\n",
      " 'B' 'LSTAT']\n",
      "[5.11656448e-02 1.45327136e-04 1.93469473e-03 3.56251625e-03\n",
      " 1.07891203e-02 5.24350479e-01 3.40381917e-03 5.18060704e-02\n",
      " 9.85077154e-04 9.47200987e-03 9.21252619e-03 3.88820935e-03\n",
      " 3.29284506e-01]\n",
      "[5.35684913e-02 4.29031769e-04 1.56978382e-02 1.22669518e-02\n",
      " 1.38314064e-02 5.59358661e-01 1.00542388e-02 6.77811561e-02\n",
      " 1.63398974e-04 1.18776605e-02 1.90430377e-02 1.00814837e-02\n",
      " 2.25846643e-01]\n"
     ]
    }
   ],
   "source": [
    "boston = datasets.load_boston()\n",
    "\n",
    "RFR = RandomForestRegressor(n_estimators=200,max_depth=4)\n",
    "DTR = DecisionTreeRegressor(max_depth=10)\n",
    "\n",
    "x_train,x_test,y_train,y_test = train_test_split(boston.data,boston.target,test_size = 0.3,random_state=4)\n",
    "\n",
    "RFR.fit(x_train,y_train)\n",
    "DTR.fit(x_train,y_train)\n",
    "\n",
    "y_pred = RFR.predict(x_test)\n",
    "y_pred2 = DTR.predict(x_test)\n",
    "\n",
    "print(\"MSE of boston RFR:\", metrics.mean_squared_error(y_test,y_pred))\n",
    "#print(y_test,\"\\n\",y_pred)\n",
    "print(\"MSE of boston DTR:\", metrics.mean_squared_error(y_test,y_pred2))\n",
    "#print(y_test,\"\\n\",y_pred2)\n",
    "print(boston.feature_names)\n",
    "print(RFR.feature_importances_)\n",
    "print(DTR.feature_importances_)\n",
    "export_graphviz(DTR,out_file=\"boston_DTR.dot\")"
   ]
  },
  {
   "cell_type": "code",
   "execution_count": 87,
   "metadata": {},
   "outputs": [
    {
     "name": "stdout",
     "output_type": "stream",
     "text": [
      "accuracy of wine RFC: 0.9814814814814815\n",
      "[2 2 0 0 1 2 0 1 0 1 1 0 2 2 0 1 0 1 1 2 1 2 1 2 0 2 1 1 2 2 0 1 0 1 2 2 0\n",
      " 0 0 2 2 0 0 1 1 0 1 2 0 2 1 1 1 0] \n",
      " [2 2 0 0 1 2 0 1 0 1 1 0 2 2 0 1 0 1 1 2 1 2 1 2 0 2 1 1 2 2 0 1 0 1 2 2 0\n",
      " 0 0 2 2 0 0 2 1 0 1 2 0 2 1 1 1 0]\n",
      "accuracy of wine DTC: 0.9259259259259259\n",
      "[2 2 0 0 1 2 0 1 0 1 1 0 2 2 0 1 0 1 1 2 1 2 1 2 0 2 1 1 2 2 0 1 0 1 2 2 0\n",
      " 0 0 2 2 0 0 1 1 0 1 2 0 2 1 1 1 0] \n",
      " [2 2 0 0 0 2 0 1 0 1 1 0 2 2 0 1 0 1 1 2 1 2 1 2 0 2 1 1 2 2 0 1 0 1 2 2 0\n",
      " 0 0 2 2 0 1 2 1 0 1 2 1 2 1 1 1 0]\n",
      "['alcohol', 'malic_acid', 'ash', 'alcalinity_of_ash', 'magnesium', 'total_phenols', 'flavanoids', 'nonflavanoid_phenols', 'proanthocyanins', 'color_intensity', 'hue', 'od280/od315_of_diluted_wines', 'proline']\n",
      "[0.1240372  0.02625743 0.00971156 0.03855848 0.03530703 0.06097971\n",
      " 0.12114543 0.01324626 0.02271988 0.14695809 0.08130529 0.12138878\n",
      " 0.19838487]\n",
      "[0.         0.         0.         0.         0.         0.\n",
      " 0.3966316  0.         0.         0.39192945 0.         0.\n",
      " 0.21143895]\n"
     ]
    }
   ],
   "source": [
    "wine = datasets.load_wine()\n",
    "\n",
    "x_train,x_test,y_train,y_test = train_test_split(wine.data,wine.target,test_size = 0.3,random_state=4)\n",
    "\n",
    "RFC.fit(x_train,y_train)\n",
    "DTC.fit(x_train,y_train)\n",
    "\n",
    "y_pred=RFC.predict(x_test)\n",
    "y_pred2=DTC.predict(x_test)\n",
    "print(\"accuracy of wine RFC:\", metrics.accuracy_score(y_test,y_pred))\n",
    "print(y_test,\"\\n\",y_pred)\n",
    "print(\"accuracy of wine DTC:\", metrics.accuracy_score(y_test,y_pred2))\n",
    "print(y_test,\"\\n\",y_pred2)\n",
    "export_graphviz(DTC,out_file=\"wine_DTC.dot\")\n",
    "print(wine.feature_names)\n",
    "print(RFC.feature_importances_)\n",
    "print(DTC.feature_importances_)"
   ]
  },
  {
   "cell_type": "code",
   "execution_count": null,
   "metadata": {},
   "outputs": [],
   "source": []
  }
 ],
 "metadata": {
  "kernelspec": {
   "display_name": "Python 3",
   "language": "python",
   "name": "python3"
  },
  "language_info": {
   "codemirror_mode": {
    "name": "ipython",
    "version": 3
   },
   "file_extension": ".py",
   "mimetype": "text/x-python",
   "name": "python",
   "nbconvert_exporter": "python",
   "pygments_lexer": "ipython3",
   "version": "3.7.3"
  }
 },
 "nbformat": 4,
 "nbformat_minor": 2
}
