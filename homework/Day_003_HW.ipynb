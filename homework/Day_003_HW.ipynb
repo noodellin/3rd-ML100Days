homework3
Q:Try to visit the ML blog and read an article
then analyze its:
1.target
2.methods
3.data resource

I choose the article named On-Device, Real-Time Hand Tracking
with MediaPipe provided by Google AI Blog.

They want to provide their hand perception functionality to 
the wider research and developement community will result in 
an emergence of creative use cases, stimulating new applicantions
and new research avenues.

They use three models working together to realize this hand tracking
function.
First they use palm detector model to operates on the full image 
and returns an oriented hand bounding box.
And then a hand landmark model operates on the cropped image
region defined by the palm detector and returns high fidelity 
3D hand keypoints.
Finally, a gesture recongnizer model can classifies the keypoint 
configuration into a discrete set of gestures.

In order to obtain ground truth data, they have manually annotated 
~30K real-world images with 21 3D coordinates.
They also render a high-quality synthetic hand model over various
backgrounds and map it to the corresponding 3D coordinates.