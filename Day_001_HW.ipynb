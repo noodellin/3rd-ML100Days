#D1

#D1-homework1
import numpy as np
import matplotlib.pyplot as plt

w = 3
b = 0.5
x_lin = np.linspace(0,100,101)
y = (x_lin + np.random.randn(101) * 5) * w + b
#print(y,x_lin)

y_hat = x_lin * w + b
plt.plot(x_lin,y,'b.',label = 'data')
plt.plot(x_lin, y_hat, 'r-', label = 'prediction')
plt.legend(loc = 2)
plt.show()

def mean_absolute_error(y,yp):
    mae = sum(abs(y-yp)) / len(y)
    return mae
def mean_square_error(y,yp): #The answer of D1-1
    mse = sum((y-yp)**2) / len(y)
    return mse 

mae = mean_absolute_error(y,y_hat)
mse = mean_square_error(y,y_hat)
print("The mean absolute error is %.3f" %(mae))
print("The mean square error is %.3f" %(mse))

#--------------------------------------------
#D1-homework2
#Datasets
#Title:Search Engine Results-Flights&Tickets Keywords

#Q1.The reason why this datasets I choose is important?
#Ans:One of the reason is for search engine optimization(SEO).
#And another reason is travel around world become more
#commonly nowadays.
#Therefore flight tickets price searching are also become important.

#Q2.Where the datasets come from?
#Ans:There has three main kernels to generate this datasets,
#one is kaggle kerneler, another one is Paras Patidar,
#the other one is Elias Dabbas.

#Q3.What's the datatype of datasets?
#Ans:
#1.Destinations:100 flight destinations from Wikipedia
#and used them as the basis for the queries.
#2.Keywords:Each destination was prepended with two variations,
#one is "flights to destination" and the other is "tickets to destination".
#3.Countries:Each variation of those was requested for one of two
#English-speaking conuntries,The United States and The United Kingdom.
#4.SERPs:Each result contains ten links.

#Q4.How to evaluate the issue this datasets try to solve?
#Ans:
#First need to importing the data from goole's custom search engine.
#Then using three Python packages for handling the data,
#which are advertools, pandas and matplotlib respectively.
#After data analysis it can show the rank of flights and tickets
#destinations and some other detail information.

#----------------------------------------------------------
#D1-homework3
#Q1.What's the kernel issue?
#Ans:If we want increase the sale target we must analysis the
#custom ridding habit like:
#When the passenger need take ride?(from morning to midnight)
#Which location's passenger need take ride most?(which city)
#Which site need the car most?(restaurant,deparment store,train station,etc)

#Q2.Where are the data come from?
#Ans:We can statistic the real experience of every car.

#Q3.What's the datatype of datasets?
#Ans:We can classify the data as time and location.

#Q4.How to evaluate the issue this datasets try to solve?
#Ans:We can ranking the data we received.
#For example, ranking the ridding frequency in a day, then
#we can know when the passenger need ride.
#On the other hand, we can ranking the frequency of different
#location, then we can know which location's passenger need
#ride most.
#And we can analyze where need the ride most, like train station
#or airport,etc.
